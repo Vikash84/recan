{
 "cells": [
  {
   "cell_type": "markdown",
   "metadata": {},
   "source": [
    "** some thoughts : **\n",
    "\n",
    "- you can do all the variables attributes, which are None when initialized\n",
    "- it's better to 'unload' main working method:\n",
    "- create get_dataframe method instead of optional parameter: it'll get the current distance state and get it's data, it's more logical: you obj.simgen() > get plot you like, then obj.get_dataframe >> get data for analysis or storage\n",
    "- don't forget to make attributes private, f.e. distance should be private, as user can modify it somehow and the results will be broken\n"
   ]
  },
  {
   "cell_type": "code",
   "execution_count": 275,
   "metadata": {},
   "outputs": [
    {
     "data": {
      "text/html": [
       "<script>requirejs.config({paths: { 'plotly': ['https://cdn.plot.ly/plotly-latest.min']},});if(!window.Plotly) {{require(['plotly'],function(plotly) {window.Plotly=plotly;});}}</script>"
      ],
      "text/vnd.plotly.v1+html": [
       "<script>requirejs.config({paths: { 'plotly': ['https://cdn.plot.ly/plotly-latest.min']},});if(!window.Plotly) {{require(['plotly'],function(plotly) {window.Plotly=plotly;});}}</script>"
      ]
     },
     "metadata": {},
     "output_type": "display_data"
    }
   ],
   "source": [
    "from Bio.Align import MultipleSeqAlignment\n",
    "\n",
    "from plotly.offline import download_plotlyjs, init_notebook_mode, plot, iplot\n",
    "import pandas as pd\n",
    "import plotly.graph_objs as go\n",
    "from Bio import AlignIO\n",
    "init_notebook_mode(connected=True)\n",
    "\n",
    "\n",
    "\n",
    "\n",
    "class Simgen(MultipleSeqAlignment):\n",
    "    \n",
    "    \n",
    "    def __init__(self, path):\n",
    "        \"\"\"initializing Simgen\"\"\"\n",
    "        from Bio import AlignIO\n",
    "        recs_prepared = (x for x in AlignIO.read(path, \"fasta\")) # it works without it, but i believe it's formally right\n",
    "        super(Simgen, self).__init__(recs_prepared)  # you need explicitly call the __init__ of the upperclass\n",
    "        \n",
    "        self.distance = {}  # empty, until call of the simgen function\n",
    "        self.align = None  # current slice or whole MultipleSeqRecord for plotting\n",
    "        self.ticks = None  # ticks for plot\n",
    "    \n",
    "    \n",
    "    \n",
    "    def simgen(self, pot_rec, window=1, shift=1, region=False, draw=True):\n",
    "        \"\"\"slices the alignment, collects the distance data\n",
    "\n",
    "        Parameters:\n",
    "        -----------\n",
    "        pot_rec: int\n",
    "            the number of the sequence under study, starts with 0,\n",
    "            like the 'x' dimension in the numpy array\n",
    "            window: int\n",
    "            sliding window size\n",
    "        shift: int\n",
    "            the step window slides downstream the alignment\n",
    "        region: a tuple or a list of two integers\n",
    "            the region of the alignment to analyze. the start\n",
    "            and the end nucleotide positions\n",
    "        return_data: bool, optional\n",
    "            return the data in pandas DataFrame\n",
    "            \"\"\"\n",
    "\n",
    "        assert window >=1, \"wondow can't be a negative or zero\"\n",
    "        assert shift >= 1, \"shift can't be a negative or zero\" \n",
    "\n",
    "        \n",
    "        if region:\n",
    "            assert region[0] < region[1], \"the value of the first nucleotide position should be less than the second one\"\n",
    "            \n",
    "            collect_sliced = []\n",
    "            for rec in self._records:  # access to seq of the SeqRecord obj inside MultipleSeqAlignment\n",
    "                sliced_seq = rec.seq[region[0]:region[1]]\n",
    "                collect_sliced.append(SeqRecord(sliced_seq, id=rec.id, name=rec.name, description=rec.description))\n",
    "\n",
    "            self.align = MultipleSeqAlignment(collect_sliced)\n",
    "        \n",
    "\n",
    "            left_border = region[0]   # border for the first tick\n",
    "            right_border = region[1]  # if region, 'right_border' is actual position\n",
    "\n",
    "        else:\n",
    "            collect_sliced = []\n",
    "            for rec in self._records:  # access to seq of the SeqRecord obj inside MultipleSeqAlignment\n",
    "                sliced_seq = rec.seq[:]\n",
    "                collect_sliced.append(SeqRecord(sliced_seq, id=rec.id, name=rec.name, description=rec.description))\n",
    "\n",
    "            self.align = MultipleSeqAlignment(collect_sliced)\n",
    "        \n",
    "            left_border = 1  # border for the first tick\n",
    "            right_border = self.get_alignment_length()\n",
    "        #print(align)\n",
    "        #print(type(align))\n",
    "        \n",
    "        # TODO: from here go down and redo the code :\n",
    "        # problems are: 'method name is not defined'\n",
    "        \n",
    "        # creating tick labels for the plot\n",
    "        self._get_x_labels(left_border, right_border, shift)\n",
    "\n",
    "        # calculating pairwise distance\n",
    "        self._move_window(window, pot_rec, shift)\n",
    "        \n",
    "        \n",
    "        if draw:\n",
    "            self._draw_simplot()\n",
    "        else:\n",
    "            data = pd.DataFrame(data=self.distance, index=ticks[1:]) # [1:] to map data to index\n",
    "            #data = distance_data # test line\n",
    "            return data\n",
    "        \n",
    "    \n",
    "    def _pdistance(self, seq1, seq2):\n",
    "        \"\"\"calculates pairwise distance between two sequences\"\"\"\n",
    "        p = 0\n",
    "        pairs = []\n",
    "        for x in zip(seq1, seq2):\n",
    "            if '-' not in x:\n",
    "                pairs.append(x)\n",
    "        for (x, y) in pairs:\n",
    "            if x != y:\n",
    "                p += 1\n",
    "        length = len(pairs)\n",
    "        #assert length > 0, \"AssertionError: perhaps your alignment contains only or too many gaps\"\n",
    "        try:\n",
    "            dist = float(1 - p / length)  # '1 - p' to take plot 'upside down'\n",
    "            return dist\n",
    "        except ZeroDivisionError as e:\n",
    "            print(e, \": perhaps your alignment contains only gaps\")\n",
    "\n",
    "        \n",
    "    def _get_x_labels(self, left_border, right_border, shift):\n",
    "        \"\"\"creates tick labels\"\"\"\n",
    "\n",
    "        tick_container = []      \n",
    "        tick_container.append(left_border)\n",
    "\n",
    "        while tick_container[-1] < right_border:\n",
    "            tick_container.append(tick_container[-1] + shift)\n",
    "            if tick_container[-1] > right_border:\n",
    "                tick_container[-1] = right_border\n",
    "\n",
    "        self.ticks = tick_container\n",
    "\n",
    "\n",
    "    def _move_window(self, window, pot_rec, shift):\n",
    "        \"\"\"moves window\"\"\"\n",
    "        distance_data = {}\n",
    "        parents = list(range(0, len(self.align)))\n",
    "        parents.remove(pot_rec)\n",
    "        align_length = len(self.align[0, :])\n",
    "\n",
    "        for par in parents:\n",
    "            dist_container = []\n",
    "            start = 0\n",
    "            finish = shift\n",
    "\n",
    "            while start < align_length:\n",
    "                seq1 = self.align[pot_rec, start:finish].seq # here is a potential recombinant sequence slice\n",
    "                seq2 = self.align[par, start:finish].seq  # here's a parent's slice\n",
    "                dist_container.append(self._pdistance(seq1, seq2)) #calculate pdistance, append to container\n",
    "                start += shift\n",
    "                finish = start + window\n",
    "\n",
    "            distance_data[self.align[par].id] = dist_container\n",
    "\n",
    "        self.distance = distance_data  # do i really should return? it's better to get access just right\n",
    "    \n",
    "    \n",
    "    def _draw_simplot(self):\n",
    "        \"\"\"draws similarity plot\"\"\"\n",
    "\n",
    "        data = []\n",
    "        for key in self.distance.keys():\n",
    "            print(key)\n",
    "            trace = go.Scatter(y=self.distance[key], x=self.ticks, name=key)\n",
    "            data.append(trace)\n",
    "\n",
    "        layout = go.Layout(\n",
    "            title=\"similarity plot\",\n",
    "            xaxis=dict(\n",
    "                title=\"nucleotide position\"),\n",
    "            yaxis=dict(\n",
    "                title=\"sequence identity\"),\n",
    "            legend=dict(x=-0.1, y=1.5))\n",
    "\n",
    "        fig = go.Figure(data=data, layout=layout)\n",
    "        iplot(fig)\n"
   ]
  },
  {
   "cell_type": "code",
   "execution_count": 276,
   "metadata": {},
   "outputs": [],
   "source": [
    "simgen_obj = Simgen(\"./data/half_and_equal.fasta\")"
   ]
  },
  {
   "cell_type": "code",
   "execution_count": 277,
   "metadata": {},
   "outputs": [
    {
     "name": "stdout",
     "output_type": "stream",
     "text": [
      "seq2_empty\n",
      "seq3_empty\n"
     ]
    },
    {
     "data": {
      "application/vnd.plotly.v1+json": {
       "data": [
        {
         "name": "seq2_empty",
         "type": "scatter",
         "uid": "53e944ee-a533-11e8-afee-d46a6a82ea71",
         "x": [
          1,
          2,
          3,
          4,
          5,
          6,
          7,
          8,
          9,
          10,
          11
         ],
         "y": [
          1,
          1,
          1,
          1,
          1,
          0,
          0,
          0,
          0,
          0,
          0
         ]
        },
        {
         "name": "seq3_empty",
         "type": "scatter",
         "uid": "53e944ef-a533-11e8-8c44-d46a6a82ea71",
         "x": [
          1,
          2,
          3,
          4,
          5,
          6,
          7,
          8,
          9,
          10,
          11
         ],
         "y": [
          1,
          1,
          1,
          1,
          1,
          1,
          1,
          1,
          1,
          1,
          1
         ]
        }
       ],
       "layout": {
        "legend": {
         "x": -0.1,
         "y": 1.5
        },
        "title": "similarity plot",
        "xaxis": {
         "title": "nucleotide position"
        },
        "yaxis": {
         "title": "sequence identity"
        }
       }
      },
      "text/html": [
       "<div id=\"3afff6a7-d668-405d-8ec8-ef7b3c808eb9\" style=\"height: 525px; width: 100%;\" class=\"plotly-graph-div\"></div><script type=\"text/javascript\">require([\"plotly\"], function(Plotly) { window.PLOTLYENV=window.PLOTLYENV || {};window.PLOTLYENV.BASE_URL=\"https://plot.ly\";\n",
       "        Plotly.plot(\n",
       "            '3afff6a7-d668-405d-8ec8-ef7b3c808eb9',\n",
       "            [{\"name\": \"seq2_empty\", \"x\": [1, 2, 3, 4, 5, 6, 7, 8, 9, 10, 11], \"y\": [1.0, 1.0, 1.0, 1.0, 1.0, 0.0, 0.0, 0.0, 0.0, 0.0, 0.0], \"type\": \"scatter\", \"uid\": \"53e944ee-a533-11e8-afee-d46a6a82ea71\"}, {\"name\": \"seq3_empty\", \"x\": [1, 2, 3, 4, 5, 6, 7, 8, 9, 10, 11], \"y\": [1.0, 1.0, 1.0, 1.0, 1.0, 1.0, 1.0, 1.0, 1.0, 1.0, 1.0], \"type\": \"scatter\", \"uid\": \"53e944ef-a533-11e8-8c44-d46a6a82ea71\"}],\n",
       "            {\"legend\": {\"x\": -0.1, \"y\": 1.5}, \"title\": \"similarity plot\", \"xaxis\": {\"title\": \"nucleotide position\"}, \"yaxis\": {\"title\": \"sequence identity\"}},\n",
       "            {\"showLink\": true, \"linkText\": \"Export to plot.ly\"}\n",
       "        ).then(function () {return Plotly.addFrames('3afff6a7-d668-405d-8ec8-ef7b3c808eb9',{});}).then(function(){Plotly.animate('3afff6a7-d668-405d-8ec8-ef7b3c808eb9');})\n",
       "        });</script>"
      ],
      "text/vnd.plotly.v1+html": [
       "<div id=\"3afff6a7-d668-405d-8ec8-ef7b3c808eb9\" style=\"height: 525px; width: 100%;\" class=\"plotly-graph-div\"></div><script type=\"text/javascript\">require([\"plotly\"], function(Plotly) { window.PLOTLYENV=window.PLOTLYENV || {};window.PLOTLYENV.BASE_URL=\"https://plot.ly\";\n",
       "        Plotly.plot(\n",
       "            '3afff6a7-d668-405d-8ec8-ef7b3c808eb9',\n",
       "            [{\"name\": \"seq2_empty\", \"x\": [1, 2, 3, 4, 5, 6, 7, 8, 9, 10, 11], \"y\": [1.0, 1.0, 1.0, 1.0, 1.0, 0.0, 0.0, 0.0, 0.0, 0.0, 0.0], \"type\": \"scatter\", \"uid\": \"53e944ee-a533-11e8-afee-d46a6a82ea71\"}, {\"name\": \"seq3_empty\", \"x\": [1, 2, 3, 4, 5, 6, 7, 8, 9, 10, 11], \"y\": [1.0, 1.0, 1.0, 1.0, 1.0, 1.0, 1.0, 1.0, 1.0, 1.0, 1.0], \"type\": \"scatter\", \"uid\": \"53e944ef-a533-11e8-8c44-d46a6a82ea71\"}],\n",
       "            {\"legend\": {\"x\": -0.1, \"y\": 1.5}, \"title\": \"similarity plot\", \"xaxis\": {\"title\": \"nucleotide position\"}, \"yaxis\": {\"title\": \"sequence identity\"}},\n",
       "            {\"showLink\": true, \"linkText\": \"Export to plot.ly\"}\n",
       "        ).then(function () {return Plotly.addFrames('3afff6a7-d668-405d-8ec8-ef7b3c808eb9',{});}).then(function(){Plotly.animate('3afff6a7-d668-405d-8ec8-ef7b3c808eb9');})\n",
       "        });</script>"
      ]
     },
     "metadata": {},
     "output_type": "display_data"
    }
   ],
   "source": [
    "simgen_obj.simgen(pot_rec=0)"
   ]
  },
  {
   "cell_type": "code",
   "execution_count": 278,
   "metadata": {},
   "outputs": [
    {
     "data": {
      "text/plain": [
       "{'seq2_empty': [1.0, 1.0, 1.0, 1.0, 1.0, 0.0, 0.0, 0.0, 0.0, 0.0, 0.0],\n",
       " 'seq3_empty': [1.0, 1.0, 1.0, 1.0, 1.0, 1.0, 1.0, 1.0, 1.0, 1.0, 1.0]}"
      ]
     },
     "execution_count": 278,
     "metadata": {},
     "output_type": "execute_result"
    }
   ],
   "source": [
    "simgen_obj.distance"
   ]
  },
  {
   "cell_type": "code",
   "execution_count": null,
   "metadata": {},
   "outputs": [],
   "source": []
  },
  {
   "cell_type": "code",
   "execution_count": null,
   "metadata": {},
   "outputs": [],
   "source": []
  },
  {
   "cell_type": "code",
   "execution_count": null,
   "metadata": {},
   "outputs": [],
   "source": []
  },
  {
   "cell_type": "code",
   "execution_count": null,
   "metadata": {},
   "outputs": [],
   "source": []
  },
  {
   "cell_type": "code",
   "execution_count": 280,
   "metadata": {},
   "outputs": [
    {
     "name": "stdout",
     "output_type": "stream",
     "text": [
      "seq2_empty\n",
      "seq3_empty\n"
     ]
    },
    {
     "data": {
      "application/vnd.plotly.v1+json": {
       "data": [
        {
         "name": "seq2_empty",
         "type": "scatter",
         "uid": "78c1769e-a533-11e8-83d0-d46a6a82ea71",
         "x": [
          5,
          6,
          7
         ],
         "y": [
          0,
          0
         ]
        },
        {
         "name": "seq3_empty",
         "type": "scatter",
         "uid": "78c1769f-a533-11e8-b048-d46a6a82ea71",
         "x": [
          5,
          6,
          7
         ],
         "y": [
          1,
          1
         ]
        }
       ],
       "layout": {
        "legend": {
         "x": -0.1,
         "y": 1.5
        },
        "title": "similarity plot",
        "xaxis": {
         "title": "nucleotide position"
        },
        "yaxis": {
         "title": "sequence identity"
        }
       }
      },
      "text/html": [
       "<div id=\"4f14fc93-a981-4098-9a07-14b34010dc36\" style=\"height: 525px; width: 100%;\" class=\"plotly-graph-div\"></div><script type=\"text/javascript\">require([\"plotly\"], function(Plotly) { window.PLOTLYENV=window.PLOTLYENV || {};window.PLOTLYENV.BASE_URL=\"https://plot.ly\";\n",
       "        Plotly.plot(\n",
       "            '4f14fc93-a981-4098-9a07-14b34010dc36',\n",
       "            [{\"name\": \"seq2_empty\", \"x\": [5, 6, 7], \"y\": [0.0, 0.0], \"type\": \"scatter\", \"uid\": \"78c1769e-a533-11e8-83d0-d46a6a82ea71\"}, {\"name\": \"seq3_empty\", \"x\": [5, 6, 7], \"y\": [1.0, 1.0], \"type\": \"scatter\", \"uid\": \"78c1769f-a533-11e8-b048-d46a6a82ea71\"}],\n",
       "            {\"legend\": {\"x\": -0.1, \"y\": 1.5}, \"title\": \"similarity plot\", \"xaxis\": {\"title\": \"nucleotide position\"}, \"yaxis\": {\"title\": \"sequence identity\"}},\n",
       "            {\"showLink\": true, \"linkText\": \"Export to plot.ly\"}\n",
       "        ).then(function () {return Plotly.addFrames('4f14fc93-a981-4098-9a07-14b34010dc36',{});}).then(function(){Plotly.animate('4f14fc93-a981-4098-9a07-14b34010dc36');})\n",
       "        });</script>"
      ],
      "text/vnd.plotly.v1+html": [
       "<div id=\"4f14fc93-a981-4098-9a07-14b34010dc36\" style=\"height: 525px; width: 100%;\" class=\"plotly-graph-div\"></div><script type=\"text/javascript\">require([\"plotly\"], function(Plotly) { window.PLOTLYENV=window.PLOTLYENV || {};window.PLOTLYENV.BASE_URL=\"https://plot.ly\";\n",
       "        Plotly.plot(\n",
       "            '4f14fc93-a981-4098-9a07-14b34010dc36',\n",
       "            [{\"name\": \"seq2_empty\", \"x\": [5, 6, 7], \"y\": [0.0, 0.0], \"type\": \"scatter\", \"uid\": \"78c1769e-a533-11e8-83d0-d46a6a82ea71\"}, {\"name\": \"seq3_empty\", \"x\": [5, 6, 7], \"y\": [1.0, 1.0], \"type\": \"scatter\", \"uid\": \"78c1769f-a533-11e8-b048-d46a6a82ea71\"}],\n",
       "            {\"legend\": {\"x\": -0.1, \"y\": 1.5}, \"title\": \"similarity plot\", \"xaxis\": {\"title\": \"nucleotide position\"}, \"yaxis\": {\"title\": \"sequence identity\"}},\n",
       "            {\"showLink\": true, \"linkText\": \"Export to plot.ly\"}\n",
       "        ).then(function () {return Plotly.addFrames('4f14fc93-a981-4098-9a07-14b34010dc36',{});}).then(function(){Plotly.animate('4f14fc93-a981-4098-9a07-14b34010dc36');})\n",
       "        });</script>"
      ]
     },
     "metadata": {},
     "output_type": "display_data"
    }
   ],
   "source": [
    "simgen_obj.simgen(pot_rec=0, region=(5,7))"
   ]
  },
  {
   "cell_type": "code",
   "execution_count": null,
   "metadata": {},
   "outputs": [],
   "source": []
  },
  {
   "cell_type": "code",
   "execution_count": 255,
   "metadata": {},
   "outputs": [
    {
     "name": "stdout",
     "output_type": "stream",
     "text": [
      "SingleLetterAlphabet() alignment with 3 rows and 11 columns\n",
      "AAAAATTTTTT seq1_empty\n",
      "AAAAAGGGGGG seq2_empty\n",
      "AAAAATTTTTT seq3_empty\n",
      "<class 'Bio.Align.MultipleSeqAlignment'>\n"
     ]
    },
    {
     "ename": "TypeError",
     "evalue": "_draw_simplot() takes 0 positional arguments but 1 was given",
     "output_type": "error",
     "traceback": [
      "\u001b[1;31m---------------------------------------------------------------------------\u001b[0m",
      "\u001b[1;31mTypeError\u001b[0m                                 Traceback (most recent call last)",
      "\u001b[1;32m<ipython-input-255-4a3d2f255c77>\u001b[0m in \u001b[0;36m<module>\u001b[1;34m()\u001b[0m\n\u001b[1;32m----> 1\u001b[1;33m \u001b[0msimgen_obj\u001b[0m\u001b[1;33m.\u001b[0m\u001b[0msimgen\u001b[0m\u001b[1;33m(\u001b[0m\u001b[0mpot_rec\u001b[0m\u001b[1;33m=\u001b[0m\u001b[1;36m0\u001b[0m\u001b[1;33m)\u001b[0m\u001b[1;33m\u001b[0m\u001b[0m\n\u001b[0m",
      "\u001b[1;32m<ipython-input-251-595fd96dee22>\u001b[0m in \u001b[0;36msimgen\u001b[1;34m(self, pot_rec, window, shift, region, draw)\u001b[0m\n\u001b[0;32m     86\u001b[0m \u001b[1;33m\u001b[0m\u001b[0m\n\u001b[0;32m     87\u001b[0m         \u001b[1;32mif\u001b[0m \u001b[0mdraw\u001b[0m\u001b[1;33m:\u001b[0m\u001b[1;33m\u001b[0m\u001b[0m\n\u001b[1;32m---> 88\u001b[1;33m             \u001b[0mself\u001b[0m\u001b[1;33m.\u001b[0m\u001b[0m_draw_simplot\u001b[0m\u001b[1;33m(\u001b[0m\u001b[1;33m)\u001b[0m\u001b[1;33m\u001b[0m\u001b[0m\n\u001b[0m\u001b[0;32m     89\u001b[0m         \u001b[1;32melse\u001b[0m\u001b[1;33m:\u001b[0m\u001b[1;33m\u001b[0m\u001b[0m\n\u001b[0;32m     90\u001b[0m             \u001b[0mdata\u001b[0m \u001b[1;33m=\u001b[0m \u001b[0mpd\u001b[0m\u001b[1;33m.\u001b[0m\u001b[0mDataFrame\u001b[0m\u001b[1;33m(\u001b[0m\u001b[0mdata\u001b[0m\u001b[1;33m=\u001b[0m\u001b[0mself\u001b[0m\u001b[1;33m.\u001b[0m\u001b[0mdistance\u001b[0m\u001b[1;33m,\u001b[0m \u001b[0mindex\u001b[0m\u001b[1;33m=\u001b[0m\u001b[0mticks\u001b[0m\u001b[1;33m[\u001b[0m\u001b[1;36m1\u001b[0m\u001b[1;33m:\u001b[0m\u001b[1;33m]\u001b[0m\u001b[1;33m)\u001b[0m \u001b[1;31m# [1:] to map data to index\u001b[0m\u001b[1;33m\u001b[0m\u001b[0m\n",
      "\u001b[1;31mTypeError\u001b[0m: _draw_simplot() takes 0 positional arguments but 1 was given"
     ]
    }
   ],
   "source": [
    "simgen_obj.simgen(pot_rec=0)"
   ]
  },
  {
   "cell_type": "code",
   "execution_count": 167,
   "metadata": {},
   "outputs": [
    {
     "name": "stdout",
     "output_type": "stream",
     "text": [
      "SingleLetterAlphabet() alignment with 3 rows and 11 columns\n",
      "AAAAATTTTTT seq1_empty\n",
      "AAAAAGGGGGG seq2_empty\n",
      "AAAAATTTTTT seq3_empty\n"
     ]
    }
   ],
   "source": [
    "print(simgen_obj)"
   ]
  },
  {
   "cell_type": "code",
   "execution_count": 143,
   "metadata": {},
   "outputs": [
    {
     "data": {
      "text/plain": [
       "__main__.Simgen"
      ]
     },
     "execution_count": 143,
     "metadata": {},
     "output_type": "execute_result"
    }
   ],
   "source": [
    "type(simgen_obj)"
   ]
  },
  {
   "cell_type": "code",
   "execution_count": null,
   "metadata": {},
   "outputs": [],
   "source": []
  },
  {
   "cell_type": "code",
   "execution_count": null,
   "metadata": {},
   "outputs": [],
   "source": []
  },
  {
   "cell_type": "code",
   "execution_count": 99,
   "metadata": {},
   "outputs": [],
   "source": [
    "recs = b[:, 0:1]"
   ]
  },
  {
   "cell_type": "code",
   "execution_count": 100,
   "metadata": {},
   "outputs": [
    {
     "data": {
      "text/plain": [
       "<<class 'Bio.Align.MultipleSeqAlignment'> instance (3 records of length 1, SingleLetterAlphabet()) at 1967f36b4a8>"
      ]
     },
     "execution_count": 100,
     "metadata": {},
     "output_type": "execute_result"
    }
   ],
   "source": [
    "recs"
   ]
  },
  {
   "cell_type": "code",
   "execution_count": 102,
   "metadata": {},
   "outputs": [
    {
     "name": "stdout",
     "output_type": "stream",
     "text": [
      "SingleLetterAlphabet() alignment with 3 rows and 1 columns\n",
      "A seq1_empty\n",
      "A seq2_empty\n",
      "A seq3_empty\n"
     ]
    }
   ],
   "source": [
    "print(recs)"
   ]
  },
  {
   "cell_type": "code",
   "execution_count": 103,
   "metadata": {},
   "outputs": [
    {
     "name": "stdout",
     "output_type": "stream",
     "text": [
      "ID: seq1_empty\n",
      "Name: seq1_empty\n",
      "Description: seq1_empty\n",
      "Number of features: 0\n",
      "Seq('A', SingleLetterAlphabet())\n",
      "ID: seq2_empty\n",
      "Name: seq2_empty\n",
      "Description: seq2_empty\n",
      "Number of features: 0\n",
      "Seq('A', SingleLetterAlphabet())\n",
      "ID: seq3_empty\n",
      "Name: seq3_empty\n",
      "Description: seq3_empty\n",
      "Number of features: 0\n",
      "Seq('A', SingleLetterAlphabet())\n"
     ]
    }
   ],
   "source": [
    "for rec in recs:\n",
    "    print(rec)"
   ]
  },
  {
   "cell_type": "code",
   "execution_count": 105,
   "metadata": {},
   "outputs": [
    {
     "name": "stdout",
     "output_type": "stream",
     "text": [
      "SingleLetterAlphabet() alignment with 3 rows and 11 columns\n",
      "AAAAATTTTTT seq1_empty\n",
      "AAAAAGGGGGG seq2_empty\n",
      "AAAAATTTTTT seq3_empty\n"
     ]
    }
   ],
   "source": [
    "print(b)"
   ]
  },
  {
   "cell_type": "markdown",
   "metadata": {},
   "source": [
    "pattern to create and object of multiple seq alignment and plot it\n",
    "\n",
    "the initialized object isn't changed.\n",
    "\n",
    "instead this object is stored in the 'align' var and is passed downstream\n",
    "\n",
    "**in here try to slice the object : **"
   ]
  },
  {
   "cell_type": "code",
   "execution_count": 120,
   "metadata": {},
   "outputs": [
    {
     "name": "stdout",
     "output_type": "stream",
     "text": [
      "ID: seq1_empty\n",
      "Name: seq1_empty\n",
      "Description: seq1_empty\n",
      "Number of features: 0\n",
      "Seq('AAAAATTTTTT', SingleLetterAlphabet())\n",
      "AAAAATTTTTT\n",
      "AA\n",
      "ID: seq2_empty\n",
      "Name: seq2_empty\n",
      "Description: seq2_empty\n",
      "Number of features: 0\n",
      "Seq('AAAAAGGGGGG', SingleLetterAlphabet())\n",
      "AAAAAGGGGGG\n",
      "AA\n",
      "ID: seq3_empty\n",
      "Name: seq3_empty\n",
      "Description: seq3_empty\n",
      "Number of features: 0\n",
      "Seq('AAAAATTTTTT', SingleLetterAlphabet())\n",
      "AAAAATTTTTT\n",
      "AA\n"
     ]
    }
   ],
   "source": [
    "from Bio.SeqRecord import SeqRecord\n",
    "from Bio.Align import MultipleSeqAlignment\n",
    "collect_sliced = []\n",
    "\n",
    "for rec in b._records:\n",
    "    print(rec)\n",
    "    print(rec.seq)\n",
    "    sliced_seq = rec.seq[2:4]\n",
    "    print(sliced_seq)\n",
    "    collect_sliced.append(SeqRecord(sliced_seq, id=rec.id, name=rec.name, description=rec.description))\n",
    "\n",
    "slice_of_alignment = MultipleSeqAlignment(collect_sliced)\n",
    "    "
   ]
  },
  {
   "cell_type": "code",
   "execution_count": 122,
   "metadata": {},
   "outputs": [
    {
     "data": {
      "text/plain": [
       "<<class 'Bio.Align.MultipleSeqAlignment'> instance (3 records of length 2, SingleLetterAlphabet()) at 1967f37ceb8>"
      ]
     },
     "execution_count": 122,
     "metadata": {},
     "output_type": "execute_result"
    }
   ],
   "source": [
    "slice_of_alignment"
   ]
  },
  {
   "cell_type": "code",
   "execution_count": 123,
   "metadata": {},
   "outputs": [
    {
     "name": "stdout",
     "output_type": "stream",
     "text": [
      "SingleLetterAlphabet() alignment with 3 rows and 2 columns\n",
      "AA seq1_empty\n",
      "AA seq2_empty\n",
      "AA seq3_empty\n"
     ]
    }
   ],
   "source": [
    "print(slice_of_alignment)"
   ]
  },
  {
   "cell_type": "code",
   "execution_count": 124,
   "metadata": {},
   "outputs": [
    {
     "name": "stdout",
     "output_type": "stream",
     "text": [
      "ID: seq1_empty\n",
      "Name: seq1_empty\n",
      "Description: seq1_empty\n",
      "Number of features: 0\n",
      "Seq('AA', SingleLetterAlphabet())\n"
     ]
    }
   ],
   "source": [
    "print(slice_of_alignment[0])"
   ]
  },
  {
   "cell_type": "code",
   "execution_count": null,
   "metadata": {},
   "outputs": [],
   "source": []
  },
  {
   "cell_type": "code",
   "execution_count": null,
   "metadata": {},
   "outputs": [],
   "source": []
  },
  {
   "cell_type": "code",
   "execution_count": null,
   "metadata": {},
   "outputs": [],
   "source": []
  },
  {
   "cell_type": "code",
   "execution_count": null,
   "metadata": {},
   "outputs": [],
   "source": []
  },
  {
   "cell_type": "code",
   "execution_count": 91,
   "metadata": {},
   "outputs": [],
   "source": [
    "b = Simgen(\"./data/half_and_equal.fasta\")"
   ]
  },
  {
   "cell_type": "code",
   "execution_count": 92,
   "metadata": {},
   "outputs": [],
   "source": [
    "b.simgen(pot_rec=0)"
   ]
  },
  {
   "cell_type": "code",
   "execution_count": 93,
   "metadata": {},
   "outputs": [
    {
     "data": {
      "text/plain": [
       "<<class '__main__.Simgen'> instance (3 records of length 11, SingleLetterAlphabet()) at 1967f34f710>"
      ]
     },
     "execution_count": 93,
     "metadata": {},
     "output_type": "execute_result"
    }
   ],
   "source": [
    "b"
   ]
  },
  {
   "cell_type": "code",
   "execution_count": 94,
   "metadata": {},
   "outputs": [
    {
     "name": "stdout",
     "output_type": "stream",
     "text": [
      "SingleLetterAlphabet() alignment with 3 rows and 11 columns\n",
      "AAAAATTTTTT seq1_empty\n",
      "AAAAAGGGGGG seq2_empty\n",
      "AAAAATTTTTT seq3_empty\n"
     ]
    }
   ],
   "source": [
    "print(b)"
   ]
  },
  {
   "cell_type": "code",
   "execution_count": 95,
   "metadata": {},
   "outputs": [],
   "source": [
    "a = Simgen(\"./data/half_and_equal.fasta\")"
   ]
  },
  {
   "cell_type": "code",
   "execution_count": 96,
   "metadata": {},
   "outputs": [
    {
     "ename": "TypeError",
     "evalue": "'Simgen' object is not callable",
     "output_type": "error",
     "traceback": [
      "\u001b[1;31m---------------------------------------------------------------------------\u001b[0m",
      "\u001b[1;31mTypeError\u001b[0m                                 Traceback (most recent call last)",
      "\u001b[1;32m<ipython-input-96-fa6e3fc678c0>\u001b[0m in \u001b[0;36m<module>\u001b[1;34m()\u001b[0m\n\u001b[1;32m----> 1\u001b[1;33m \u001b[0ma\u001b[0m\u001b[1;33m.\u001b[0m\u001b[0msimgen\u001b[0m\u001b[1;33m(\u001b[0m\u001b[0mpot_rec\u001b[0m\u001b[1;33m=\u001b[0m\u001b[1;36m0\u001b[0m\u001b[1;33m,\u001b[0m \u001b[0mregion\u001b[0m\u001b[1;33m=\u001b[0m\u001b[1;33m(\u001b[0m\u001b[1;36m2\u001b[0m\u001b[1;33m,\u001b[0m\u001b[1;36m3\u001b[0m\u001b[1;33m)\u001b[0m\u001b[1;33m)\u001b[0m\u001b[1;33m\u001b[0m\u001b[0m\n\u001b[0m",
      "\u001b[1;32m<ipython-input-89-0f2327123321>\u001b[0m in \u001b[0;36msimgen\u001b[1;34m(self, pot_rec, window, shift, region, draw)\u001b[0m\n\u001b[0;32m     49\u001b[0m             \u001b[1;32massert\u001b[0m \u001b[0mregion\u001b[0m\u001b[1;33m[\u001b[0m\u001b[1;36m0\u001b[0m\u001b[1;33m]\u001b[0m \u001b[1;33m<\u001b[0m \u001b[0mregion\u001b[0m\u001b[1;33m[\u001b[0m\u001b[1;36m1\u001b[0m\u001b[1;33m]\u001b[0m\u001b[1;33m,\u001b[0m \u001b[1;34m\"the value of the first nucleotide position should be less than the second one\"\u001b[0m\u001b[1;33m\u001b[0m\u001b[0m\n\u001b[0;32m     50\u001b[0m \u001b[1;33m\u001b[0m\u001b[0m\n\u001b[1;32m---> 51\u001b[1;33m             \u001b[0malign\u001b[0m \u001b[1;33m=\u001b[0m \u001b[0mself\u001b[0m\u001b[1;33m(\u001b[0m\u001b[1;33m)\u001b[0m\u001b[1;33m[\u001b[0m\u001b[1;33m:\u001b[0m\u001b[1;33m,\u001b[0m \u001b[0mregion\u001b[0m\u001b[1;33m[\u001b[0m\u001b[1;36m0\u001b[0m\u001b[1;33m]\u001b[0m \u001b[1;33m:\u001b[0m \u001b[0mregion\u001b[0m\u001b[1;33m[\u001b[0m\u001b[1;36m1\u001b[0m\u001b[1;33m]\u001b[0m\u001b[1;33m]\u001b[0m\u001b[1;33m\u001b[0m\u001b[0m\n\u001b[0m\u001b[0;32m     52\u001b[0m \u001b[1;33m\u001b[0m\u001b[0m\n\u001b[0;32m     53\u001b[0m             \u001b[0mleft_border\u001b[0m \u001b[1;33m=\u001b[0m \u001b[0mregion\u001b[0m\u001b[1;33m[\u001b[0m\u001b[1;36m0\u001b[0m\u001b[1;33m]\u001b[0m   \u001b[1;31m# border for the first tick\u001b[0m\u001b[1;33m\u001b[0m\u001b[0m\n",
      "\u001b[1;31mTypeError\u001b[0m: 'Simgen' object is not callable"
     ]
    }
   ],
   "source": [
    "a.simgen(pot_rec=0, region=(2,3))"
   ]
  },
  {
   "cell_type": "code",
   "execution_count": 97,
   "metadata": {},
   "outputs": [
    {
     "data": {
      "text/plain": [
       "<<class '__main__.Simgen'> instance (3 records of length 11, SingleLetterAlphabet()) at 1967f34f898>"
      ]
     },
     "execution_count": 97,
     "metadata": {},
     "output_type": "execute_result"
    }
   ],
   "source": [
    "a"
   ]
  },
  {
   "cell_type": "code",
   "execution_count": 98,
   "metadata": {},
   "outputs": [
    {
     "name": "stdout",
     "output_type": "stream",
     "text": [
      "SingleLetterAlphabet() alignment with 3 rows and 11 columns\n",
      "AAAAATTTTTT seq1_empty\n",
      "AAAAAGGGGGG seq2_empty\n",
      "AAAAATTTTTT seq3_empty\n"
     ]
    }
   ],
   "source": [
    "print(a)"
   ]
  },
  {
   "cell_type": "code",
   "execution_count": null,
   "metadata": {},
   "outputs": [],
   "source": []
  },
  {
   "cell_type": "code",
   "execution_count": null,
   "metadata": {},
   "outputs": [],
   "source": []
  }
 ],
 "metadata": {
  "kernelspec": {
   "display_name": "Python 3",
   "language": "python",
   "name": "python3"
  },
  "language_info": {
   "codemirror_mode": {
    "name": "ipython",
    "version": 3
   },
   "file_extension": ".py",
   "mimetype": "text/x-python",
   "name": "python",
   "nbconvert_exporter": "python",
   "pygments_lexer": "ipython3",
   "version": "3.6.5"
  }
 },
 "nbformat": 4,
 "nbformat_minor": 2
}
