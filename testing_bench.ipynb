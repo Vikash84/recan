{
 "cells": [
  {
   "cell_type": "code",
   "execution_count": 1,
   "metadata": {},
   "outputs": [
    {
     "data": {
      "text/html": [
       "<script type=\"text/javascript\">window.PlotlyConfig = {MathJaxConfig: 'local'};</script><script type=\"text/javascript\">if (window.MathJax) {MathJax.Hub.Config({SVG: {font: \"STIX-Web\"}});}</script><script>requirejs.config({paths: { 'plotly': ['https://cdn.plot.ly/plotly-latest.min']},});if(!window._Plotly) {require(['plotly'],function(plotly) {window._Plotly=plotly;});}</script>"
      ],
      "text/vnd.plotly.v1+html": [
       "<script type=\"text/javascript\">window.PlotlyConfig = {MathJaxConfig: 'local'};</script><script type=\"text/javascript\">if (window.MathJax) {MathJax.Hub.Config({SVG: {font: \"STIX-Web\"}});}</script><script>requirejs.config({paths: { 'plotly': ['https://cdn.plot.ly/plotly-latest.min']},});if(!window._Plotly) {require(['plotly'],function(plotly) {window._Plotly=plotly;});}</script>"
      ]
     },
     "metadata": {},
     "output_type": "display_data"
    }
   ],
   "source": [
    "from recan.simgen import Simgen"
   ]
  },
  {
   "cell_type": "code",
   "execution_count": 2,
   "metadata": {},
   "outputs": [],
   "source": [
    "sim_obj = Simgen(\"./data/hbv_C_Bj_Ba.fasta\")"
   ]
  },
  {
   "cell_type": "code",
   "execution_count": 3,
   "metadata": {
    "scrolled": false
   },
   "outputs": [
    {
     "data": {
      "application/vnd.plotly.v1+json": {
       "data": [
        {
         "name": "AB048704.1_genotype_C_",
         "type": "scatter",
         "uid": "fbd95ee2-05fc-4bce-accc-4e8e164b2d95",
         "x": [
          1000,
          1050,
          1100,
          1150,
          1200,
          1250,
          1300,
          1350,
          1400,
          1450,
          1500,
          1550,
          1600,
          1650,
          1700,
          1750,
          1800,
          1850,
          1900,
          1950,
          2000,
          2050,
          2100,
          2150,
          2200,
          2250,
          2300,
          2350,
          2400,
          2450,
          2500,
          2550,
          2600,
          2650,
          2700
         ],
         "y": [
          0.86,
          0.895,
          0.92,
          0.905,
          0.895,
          0.9,
          0.88,
          0.895,
          0.925,
          0.905,
          0.92,
          0.935,
          0.925,
          0.955,
          0.955,
          0.965,
          0.95,
          0.935,
          0.94,
          0.92,
          0.9299999999999999,
          0.945,
          0.925,
          0.945,
          0.96,
          0.95,
          0.975,
          0.92,
          0.855,
          0.84,
          0.81,
          0.8266666666666667,
          0.87,
          0.84
         ]
        },
        {
         "name": "AB010291.1_Bj",
         "type": "scatter",
         "uid": "9740e16b-e2ef-4dc2-b3a8-fe84ff6046b3",
         "x": [
          1000,
          1050,
          1100,
          1150,
          1200,
          1250,
          1300,
          1350,
          1400,
          1450,
          1500,
          1550,
          1600,
          1650,
          1700,
          1750,
          1800,
          1850,
          1900,
          1950,
          2000,
          2050,
          2100,
          2150,
          2200,
          2250,
          2300,
          2350,
          2400,
          2450,
          2500,
          2550,
          2600,
          2650,
          2700
         ],
         "y": [
          0.9,
          0.935,
          0.955,
          0.955,
          0.95,
          0.955,
          0.94,
          0.965,
          0.98,
          0.97,
          0.98,
          0.975,
          0.97,
          0.97,
          0.965,
          0.95,
          0.91,
          0.88,
          0.85,
          0.83,
          0.825,
          0.865,
          0.885,
          0.9299999999999999,
          0.98,
          0.97,
          0.98,
          0.935,
          0.915,
          0.905,
          0.89,
          0.9133333333333333,
          0.91,
          0.9
         ]
        }
       ],
       "layout": {
        "legend": {
         "orientation": "h",
         "x": -0.1,
         "y": 1.5
        },
        "xaxis": {
         "title": "nucleotide position"
        },
        "yaxis": {
         "title": "sequence identity"
        }
       }
      },
      "text/html": [
       "<div id=\"9f4cea4c-ecf1-44ca-b389-00c2a64cc11f\" style=\"height: 525px; width: 100%;\" class=\"plotly-graph-div\"></div><script type=\"text/javascript\">require([\"plotly\"], function(Plotly) { window.PLOTLYENV=window.PLOTLYENV || {};window.PLOTLYENV.BASE_URL=\"https://plot.ly\";Plotly.newPlot(\"9f4cea4c-ecf1-44ca-b389-00c2a64cc11f\", [{\"name\": \"AB048704.1_genotype_C_\", \"x\": [1000, 1050, 1100, 1150, 1200, 1250, 1300, 1350, 1400, 1450, 1500, 1550, 1600, 1650, 1700, 1750, 1800, 1850, 1900, 1950, 2000, 2050, 2100, 2150, 2200, 2250, 2300, 2350, 2400, 2450, 2500, 2550, 2600, 2650, 2700], \"y\": [0.86, 0.895, 0.92, 0.905, 0.895, 0.9, 0.88, 0.895, 0.925, 0.905, 0.92, 0.935, 0.925, 0.955, 0.955, 0.965, 0.95, 0.935, 0.94, 0.92, 0.9299999999999999, 0.945, 0.925, 0.945, 0.96, 0.95, 0.975, 0.92, 0.855, 0.84, 0.81, 0.8266666666666667, 0.87, 0.84], \"type\": \"scatter\", \"uid\": \"fbd95ee2-05fc-4bce-accc-4e8e164b2d95\"}, {\"name\": \"AB010291.1_Bj\", \"x\": [1000, 1050, 1100, 1150, 1200, 1250, 1300, 1350, 1400, 1450, 1500, 1550, 1600, 1650, 1700, 1750, 1800, 1850, 1900, 1950, 2000, 2050, 2100, 2150, 2200, 2250, 2300, 2350, 2400, 2450, 2500, 2550, 2600, 2650, 2700], \"y\": [0.9, 0.935, 0.955, 0.955, 0.95, 0.955, 0.94, 0.965, 0.98, 0.97, 0.98, 0.975, 0.97, 0.97, 0.965, 0.95, 0.91, 0.88, 0.85, 0.83, 0.825, 0.865, 0.885, 0.9299999999999999, 0.98, 0.97, 0.98, 0.935, 0.915, 0.905, 0.89, 0.9133333333333333, 0.91, 0.9], \"type\": \"scatter\", \"uid\": \"9740e16b-e2ef-4dc2-b3a8-fe84ff6046b3\"}], {\"legend\": {\"orientation\": \"h\", \"x\": -0.1, \"y\": 1.5}, \"xaxis\": {\"title\": \"nucleotide position\"}, \"yaxis\": {\"title\": \"sequence identity\"}}, {\"showLink\": true, \"linkText\": \"Export to plot.ly\"})});</script><script type=\"text/javascript\">window.addEventListener(\"resize\", function(){window._Plotly.Plots.resize(document.getElementById(\"9f4cea4c-ecf1-44ca-b389-00c2a64cc11f\"));});</script>"
      ],
      "text/vnd.plotly.v1+html": [
       "<div id=\"9f4cea4c-ecf1-44ca-b389-00c2a64cc11f\" style=\"height: 525px; width: 100%;\" class=\"plotly-graph-div\"></div><script type=\"text/javascript\">require([\"plotly\"], function(Plotly) { window.PLOTLYENV=window.PLOTLYENV || {};window.PLOTLYENV.BASE_URL=\"https://plot.ly\";Plotly.newPlot(\"9f4cea4c-ecf1-44ca-b389-00c2a64cc11f\", [{\"name\": \"AB048704.1_genotype_C_\", \"x\": [1000, 1050, 1100, 1150, 1200, 1250, 1300, 1350, 1400, 1450, 1500, 1550, 1600, 1650, 1700, 1750, 1800, 1850, 1900, 1950, 2000, 2050, 2100, 2150, 2200, 2250, 2300, 2350, 2400, 2450, 2500, 2550, 2600, 2650, 2700], \"y\": [0.86, 0.895, 0.92, 0.905, 0.895, 0.9, 0.88, 0.895, 0.925, 0.905, 0.92, 0.935, 0.925, 0.955, 0.955, 0.965, 0.95, 0.935, 0.94, 0.92, 0.9299999999999999, 0.945, 0.925, 0.945, 0.96, 0.95, 0.975, 0.92, 0.855, 0.84, 0.81, 0.8266666666666667, 0.87, 0.84], \"type\": \"scatter\", \"uid\": \"fbd95ee2-05fc-4bce-accc-4e8e164b2d95\"}, {\"name\": \"AB010291.1_Bj\", \"x\": [1000, 1050, 1100, 1150, 1200, 1250, 1300, 1350, 1400, 1450, 1500, 1550, 1600, 1650, 1700, 1750, 1800, 1850, 1900, 1950, 2000, 2050, 2100, 2150, 2200, 2250, 2300, 2350, 2400, 2450, 2500, 2550, 2600, 2650, 2700], \"y\": [0.9, 0.935, 0.955, 0.955, 0.95, 0.955, 0.94, 0.965, 0.98, 0.97, 0.98, 0.975, 0.97, 0.97, 0.965, 0.95, 0.91, 0.88, 0.85, 0.83, 0.825, 0.865, 0.885, 0.9299999999999999, 0.98, 0.97, 0.98, 0.935, 0.915, 0.905, 0.89, 0.9133333333333333, 0.91, 0.9], \"type\": \"scatter\", \"uid\": \"9740e16b-e2ef-4dc2-b3a8-fe84ff6046b3\"}], {\"legend\": {\"orientation\": \"h\", \"x\": -0.1, \"y\": 1.5}, \"xaxis\": {\"title\": \"nucleotide position\"}, \"yaxis\": {\"title\": \"sequence identity\"}}, {\"showLink\": true, \"linkText\": \"Export to plot.ly\"})});</script><script type=\"text/javascript\">window.addEventListener(\"resize\", function(){window._Plotly.Plots.resize(document.getElementById(\"9f4cea4c-ecf1-44ca-b389-00c2a64cc11f\"));});</script>"
      ]
     },
     "metadata": {},
     "output_type": "display_data"
    }
   ],
   "source": [
    "sim_obj.simgen(window=200, shift=50, pot_rec=1, region=(1000, 2700))"
   ]
  },
  {
   "cell_type": "code",
   "execution_count": null,
   "metadata": {},
   "outputs": [],
   "source": []
  },
  {
   "cell_type": "code",
   "execution_count": 4,
   "metadata": {},
   "outputs": [
    {
     "data": {
      "image/png": "[encoded data removed]",
      "text/plain": [
       "<Figure size 1080x576 with 1 Axes>"
      ]
     },
     "metadata": {},
     "output_type": "display_data"
    }
   ],
   "source": [
    "sim_obj.simgen(window=200, shift=70, pot_rec=1, region=(1000, 2700), inter=False)"
   ]
  },
  {
   "cell_type": "code",
   "execution_count": null,
   "metadata": {},
   "outputs": [],
   "source": []
  },
  {
   "cell_type": "code",
   "execution_count": 5,
   "metadata": {},
   "outputs": [],
   "source": [
    "sim_obj.save_data()"
   ]
  },
  {
   "cell_type": "code",
   "execution_count": 17,
   "metadata": {},
   "outputs": [],
   "source": [
    "sim_obj.save_data(path=\"../hbv_data_newly_saved.csv\")"
   ]
  },
  {
   "cell_type": "code",
   "execution_count": null,
   "metadata": {},
   "outputs": [],
   "source": []
  },
  {
   "cell_type": "code",
   "execution_count": null,
   "metadata": {},
   "outputs": [],
   "source": []
  },
  {
   "cell_type": "code",
   "execution_count": null,
   "metadata": {},
   "outputs": [],
   "source": []
  },
  {
   "cell_type": "code",
   "execution_count": null,
   "metadata": {},
   "outputs": [],
   "source": []
  },
  {
   "cell_type": "code",
   "execution_count": null,
   "metadata": {},
   "outputs": [],
   "source": []
  },
  {
   "cell_type": "code",
   "execution_count": null,
   "metadata": {},
   "outputs": [],
   "source": []
  },
  {
   "cell_type": "code",
   "execution_count": null,
   "metadata": {},
   "outputs": [],
   "source": []
  },
  {
   "cell_type": "code",
   "execution_count": null,
   "metadata": {},
   "outputs": [],
   "source": []
  },
  {
   "cell_type": "code",
   "execution_count": null,
   "metadata": {},
   "outputs": [],
   "source": []
  },
  {
   "cell_type": "code",
   "execution_count": null,
   "metadata": {},
   "outputs": [],
   "source": []
  },
  {
   "cell_type": "code",
   "execution_count": 6,
   "metadata": {},
   "outputs": [
    {
     "data": {
      "text/html": [
       "<div>\n",
       "<style scoped>\n",
       "    .dataframe tbody tr th:only-of-type {\n",
       "        vertical-align: middle;\n",
       "    }\n",
       "\n",
       "    .dataframe tbody tr th {\n",
       "        vertical-align: top;\n",
       "    }\n",
       "\n",
       "    .dataframe thead th {\n",
       "        text-align: right;\n",
       "    }\n",
       "</style>\n",
       "<table border=\"1\" class=\"dataframe\">\n",
       "  <thead>\n",
       "    <tr style=\"text-align: right;\">\n",
       "      <th></th>\n",
       "      <th>1070</th>\n",
       "      <th>1140</th>\n",
       "      <th>1210</th>\n",
       "      <th>1280</th>\n",
       "      <th>1350</th>\n",
       "      <th>1420</th>\n",
       "      <th>1490</th>\n",
       "      <th>1560</th>\n",
       "      <th>1630</th>\n",
       "      <th>1700</th>\n",
       "      <th>...</th>\n",
       "      <th>2120</th>\n",
       "      <th>2190</th>\n",
       "      <th>2260</th>\n",
       "      <th>2330</th>\n",
       "      <th>2400</th>\n",
       "      <th>2470</th>\n",
       "      <th>2540</th>\n",
       "      <th>2610</th>\n",
       "      <th>2680</th>\n",
       "      <th>2700</th>\n",
       "    </tr>\n",
       "  </thead>\n",
       "  <tbody>\n",
       "    <tr>\n",
       "      <th>AB048704.1_genotype_C_</th>\n",
       "      <td>0.871429</td>\n",
       "      <td>0.900</td>\n",
       "      <td>0.92</td>\n",
       "      <td>0.895</td>\n",
       "      <td>0.885</td>\n",
       "      <td>0.895</td>\n",
       "      <td>0.93</td>\n",
       "      <td>0.910</td>\n",
       "      <td>0.925</td>\n",
       "      <td>0.93</td>\n",
       "      <td>...</td>\n",
       "      <td>0.945</td>\n",
       "      <td>0.930</td>\n",
       "      <td>0.955</td>\n",
       "      <td>0.950</td>\n",
       "      <td>0.945</td>\n",
       "      <td>0.855</td>\n",
       "      <td>0.825</td>\n",
       "      <td>0.83125</td>\n",
       "      <td>0.866667</td>\n",
       "      <td>0.85</td>\n",
       "    </tr>\n",
       "    <tr>\n",
       "      <th>AB010291.1_Bj</th>\n",
       "      <td>0.928571</td>\n",
       "      <td>0.935</td>\n",
       "      <td>0.97</td>\n",
       "      <td>0.955</td>\n",
       "      <td>0.950</td>\n",
       "      <td>0.965</td>\n",
       "      <td>0.98</td>\n",
       "      <td>0.975</td>\n",
       "      <td>0.970</td>\n",
       "      <td>0.97</td>\n",
       "      <td>...</td>\n",
       "      <td>0.865</td>\n",
       "      <td>0.895</td>\n",
       "      <td>0.970</td>\n",
       "      <td>0.965</td>\n",
       "      <td>0.950</td>\n",
       "      <td>0.915</td>\n",
       "      <td>0.895</td>\n",
       "      <td>0.91250</td>\n",
       "      <td>0.911111</td>\n",
       "      <td>0.90</td>\n",
       "    </tr>\n",
       "  </tbody>\n",
       "</table>\n",
       "<p>2 rows × 25 columns</p>\n",
       "</div>"
      ],
      "text/plain": [
       "                            1070   1140  1210   1280   1350   1420  1490  \\\n",
       "AB048704.1_genotype_C_  0.871429  0.900  0.92  0.895  0.885  0.895  0.93   \n",
       "AB010291.1_Bj           0.928571  0.935  0.97  0.955  0.950  0.965  0.98   \n",
       "\n",
       "                         1560   1630  1700  ...    2120   2190   2260   2330  \\\n",
       "AB048704.1_genotype_C_  0.910  0.925  0.93  ...   0.945  0.930  0.955  0.950   \n",
       "AB010291.1_Bj           0.975  0.970  0.97  ...   0.865  0.895  0.970  0.965   \n",
       "\n",
       "                         2400   2470   2540     2610      2680  2700  \n",
       "AB048704.1_genotype_C_  0.945  0.855  0.825  0.83125  0.866667  0.85  \n",
       "AB010291.1_Bj           0.950  0.915  0.895  0.91250  0.911111  0.90  \n",
       "\n",
       "[2 rows x 25 columns]"
      ]
     },
     "execution_count": 6,
     "metadata": {},
     "output_type": "execute_result"
    }
   ],
   "source": [
    "sim_obj.get_data()"
   ]
  },
  {
   "cell_type": "code",
   "execution_count": 7,
   "metadata": {},
   "outputs": [],
   "source": [
    "data, positions = sim_obj.get_data(df=False)"
   ]
  },
  {
   "cell_type": "code",
   "execution_count": 8,
   "metadata": {},
   "outputs": [
    {
     "name": "stdout",
     "output_type": "stream",
     "text": [
      "[1070, 1140, 1210, 1280, 1350, 1420, 1490, 1560, 1630, 1700, 1770, 1840, 1910, 1980, 2050, 2120, 2190, 2260, 2330, 2400, 2470, 2540, 2610, 2680, 2700]\n"
     ]
    }
   ],
   "source": [
    "print(data)"
   ]
  },
  {
   "cell_type": "code",
   "execution_count": 9,
   "metadata": {
    "scrolled": true
   },
   "outputs": [
    {
     "name": "stdout",
     "output_type": "stream",
     "text": [
      "{'AB048704.1_genotype_C_': [0.8714285714285714, 0.9, 0.92, 0.895, 0.885, 0.895, 0.9299999999999999, 0.91, 0.925, 0.9299999999999999, 0.955, 0.97, 0.94, 0.9299999999999999, 0.9299999999999999, 0.945, 0.9299999999999999, 0.955, 0.95, 0.945, 0.855, 0.825, 0.83125, 0.8666666666666667, 0.85], 'AB010291.1_Bj': [0.9285714285714286, 0.935, 0.97, 0.955, 0.95, 0.965, 0.98, 0.975, 0.97, 0.97, 0.965, 0.95, 0.885, 0.845, 0.815, 0.865, 0.895, 0.97, 0.965, 0.95, 0.915, 0.895, 0.9125, 0.9111111111111111, 0.9]}\n"
     ]
    }
   ],
   "source": [
    "print(positions)"
   ]
  },
  {
   "cell_type": "code",
   "execution_count": null,
   "metadata": {},
   "outputs": [],
   "source": []
  },
  {
   "cell_type": "code",
   "execution_count": null,
   "metadata": {},
   "outputs": [],
   "source": []
  },
  {
   "cell_type": "code",
   "execution_count": null,
   "metadata": {},
   "outputs": [],
   "source": []
  },
  {
   "cell_type": "code",
   "execution_count": null,
   "metadata": {},
   "outputs": [],
   "source": []
  },
  {
   "cell_type": "code",
   "execution_count": null,
   "metadata": {},
   "outputs": [],
   "source": []
  },
  {
   "cell_type": "code",
   "execution_count": 10,
   "metadata": {},
   "outputs": [],
   "source": [
    "d = {1 : \"a\", 2 : \"b\"}"
   ]
  },
  {
   "cell_type": "code",
   "execution_count": 11,
   "metadata": {},
   "outputs": [],
   "source": [
    "ticks = list(d.keys())"
   ]
  },
  {
   "cell_type": "code",
   "execution_count": 12,
   "metadata": {},
   "outputs": [
    {
     "data": {
      "text/plain": [
       "[1, 2]"
      ]
     },
     "execution_count": 12,
     "metadata": {},
     "output_type": "execute_result"
    }
   ],
   "source": [
    "ticks"
   ]
  },
  {
   "cell_type": "code",
   "execution_count": 13,
   "metadata": {},
   "outputs": [],
   "source": [
    "data = list(d.values())"
   ]
  },
  {
   "cell_type": "code",
   "execution_count": 14,
   "metadata": {},
   "outputs": [
    {
     "data": {
      "text/plain": [
       "['a', 'b']"
      ]
     },
     "execution_count": 14,
     "metadata": {},
     "output_type": "execute_result"
    }
   ],
   "source": [
    "data"
   ]
  },
  {
   "cell_type": "code",
   "execution_count": null,
   "metadata": {},
   "outputs": [],
   "source": []
  }
 ],
 "metadata": {
  "kernelspec": {
   "display_name": "Python 3",
   "language": "python",
   "name": "python3"
  },
  "language_info": {
   "codemirror_mode": {
    "name": "ipython",
    "version": 3
   },
   "file_extension": ".py",
   "mimetype": "text/x-python",
   "name": "python",
   "nbconvert_exporter": "python",
   "pygments_lexer": "ipython3",
   "version": "3.6.5"
  }
 },
 "nbformat": 4,
 "nbformat_minor": 2
}
