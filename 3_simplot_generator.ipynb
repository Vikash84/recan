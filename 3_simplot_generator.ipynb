{
 "cells": [
  {
   "cell_type": "markdown",
   "metadata": {},
   "source": [
    "**this script builds simplot to detect recombination sites**"
   ]
  },
  {
   "cell_type": "code",
   "execution_count": 1,
   "metadata": {},
   "outputs": [],
   "source": [
    "from Bio import AlignIO\n",
    "from Bio.Seq import Seq\n",
    "from Bio.Align import MultipleSeqAlignment\n",
    "from Bio.SeqRecord import SeqRecord \n",
    "from Bio.Alphabet import generic_dna\n",
    "from Bio import AlignIO\n",
    "import matplotlib.pyplot as plt\n",
    "import seaborn as sns\n",
    "sns.set()"
   ]
  },
  {
   "cell_type": "code",
   "execution_count": 2,
   "metadata": {},
   "outputs": [],
   "source": [
    "def pdistance(seq1, seq2):\n",
    "    p = 0\n",
    "    pairs = []\n",
    "    for x in zip(seq1,seq2):\n",
    "        if '-' not in x: pairs.append(x)\n",
    "    for (x,y) in pairs:\n",
    "        if x != y:\n",
    "            p += 1\n",
    "    length = len(pairs)\n",
    "    return float(1 - p / length)"
   ]
  },
  {
   "cell_type": "markdown",
   "metadata": {},
   "source": [
    "- put path to alignment in here : "
   ]
  },
  {
   "cell_type": "code",
   "execution_count": 3,
   "metadata": {},
   "outputs": [],
   "source": [
    "align = AlignIO.read(\"for_recan_lsdv_1.fasta\", \"fasta\")"
   ]
  },
  {
   "cell_type": "markdown",
   "metadata": {},
   "source": [
    "- type in potential recombinant sequence which is under study. it must be an index in the alignment, like in an array, starting from zero"
   ]
  },
  {
   "cell_type": "code",
   "execution_count": 4,
   "metadata": {},
   "outputs": [
    {
     "name": "stdout",
     "output_type": "stream",
     "text": [
      "enter the index of the sequence to analyze2\n"
     ]
    }
   ],
   "source": [
    "pot_rec = int(input(\"enter the index of the sequence to analyze\")) # potential recombinant's index in the alignment"
   ]
  },
  {
   "cell_type": "code",
   "execution_count": 5,
   "metadata": {},
   "outputs": [
    {
     "name": "stdout",
     "output_type": "stream",
     "text": [
      "enter the length of the sliding window: 500\n"
     ]
    }
   ],
   "source": [
    "window_size = int(input(\"enter the length of the sliding window: \"))\n"
   ]
  },
  {
   "cell_type": "code",
   "execution_count": 6,
   "metadata": {},
   "outputs": [],
   "source": [
    "steps = len(align[0, :]) // window_size\n",
    "start = 0\n",
    "distance_data = {}"
   ]
  },
  {
   "cell_type": "code",
   "execution_count": 7,
   "metadata": {},
   "outputs": [],
   "source": [
    "# creating list of potential parents, which is the indices of the seqs except the recombinant under study\n",
    "parents = list(range(0, len(align))) \n",
    "parents.remove(pot_rec) # here we remove from the index list the index of the recombinant under study by its value, \n",
    "                        # which is the index for the alignment"
   ]
  },
  {
   "cell_type": "code",
   "execution_count": 8,
   "metadata": {},
   "outputs": [],
   "source": [
    "for par in parents:\n",
    "    dist_container = []\n",
    "    start = 0\n",
    "    for step in range(0 , steps):\n",
    "        finish = start + window_size + 1\n",
    "        seq1 = align[pot_rec, start:finish].seq # here is potential recombinant sequence slice\n",
    "        seq2 = align[par, start:finish].seq # here's parent\n",
    "        dist = pdistance(seq1, seq2)\n",
    "        dist_container.append(dist)\n",
    "        start = finish - 1\n",
    "    distance_data[align[pot_rec].id + \"_vs_\" + align[par].id] = dist_container\n",
    "        "
   ]
  },
  {
   "cell_type": "code",
   "execution_count": 9,
   "metadata": {},
   "outputs": [
    {
     "data": {
      "image/png": "[encoded data removed]",
      "text/plain": [
       "<Figure size 1440x576 with 1 Axes>"
      ]
     },
     "metadata": {},
     "output_type": "display_data"
    }
   ],
   "source": [
    "fig = plt.figure(figsize=(20, 8))\n",
    "for key in distance_data.keys():\n",
    "    plt.plot(distance_data[key])\n",
    "\n",
    "plt.ylim(-0.1, 1.2)\n",
    "plt.show()"
   ]
  },
  {
   "cell_type": "code",
   "execution_count": null,
   "metadata": {},
   "outputs": [],
   "source": []
  },
  {
   "cell_type": "code",
   "execution_count": null,
   "metadata": {},
   "outputs": [],
   "source": []
  },
  {
   "cell_type": "code",
   "execution_count": null,
   "metadata": {},
   "outputs": [],
   "source": []
  },
  {
   "cell_type": "code",
   "execution_count": null,
   "metadata": {},
   "outputs": [],
   "source": []
  },
  {
   "cell_type": "code",
   "execution_count": null,
   "metadata": {},
   "outputs": [],
   "source": []
  },
  {
   "cell_type": "code",
   "execution_count": null,
   "metadata": {},
   "outputs": [],
   "source": []
  },
  {
   "cell_type": "code",
   "execution_count": null,
   "metadata": {},
   "outputs": [],
   "source": []
  },
  {
   "cell_type": "code",
   "execution_count": null,
   "metadata": {},
   "outputs": [],
   "source": []
  },
  {
   "cell_type": "code",
   "execution_count": null,
   "metadata": {},
   "outputs": [],
   "source": []
  },
  {
   "cell_type": "code",
   "execution_count": null,
   "metadata": {},
   "outputs": [],
   "source": []
  }
 ],
 "metadata": {
  "kernelspec": {
   "display_name": "Python 3",
   "language": "python",
   "name": "python3"
  },
  "language_info": {
   "codemirror_mode": {
    "name": "ipython",
    "version": 3
   },
   "file_extension": ".py",
   "mimetype": "text/x-python",
   "name": "python",
   "nbconvert_exporter": "python",
   "pygments_lexer": "ipython3",
   "version": "3.6.5"
  }
 },
 "nbformat": 4,
 "nbformat_minor": 2
}
