{
 "cells": [
  {
   "cell_type": "code",
   "execution_count": null,
   "metadata": {},
   "outputs": [],
   "source": [
    "def simgen(align, pot_rec, window=500, region=False):\n",
    "    \"\"\"\n",
    "    'align' is a path to the alignment\n",
    "    pot_rec is the index of the potential recombinant (starts with zero)\n",
    "    window is a sliding window size\n",
    "    region, if given, should be a tuple or a list with slice indices\n",
    "    \"\"\"\n",
    "    \n",
    "    tick_container = []\n",
    "    \n",
    "    if region:\n",
    "        align = AlignIO.read(align, \"fasta\")\n",
    "        align = align[:, region[0] : region[1]]\n",
    "    else:\n",
    "        align = AlignIO.read(align, \"fasta\")\n",
    "   \n",
    "    steps = len(align[0, :]) // window\n",
    "    distance_data = {}\n",
    "    parents = list(range(0, len(align)))\n",
    "    parents.remove(pot_rec)\n",
    "    \n",
    "    step \n",
    "    \n",
    "    \n",
    "    for par in parents:\n",
    "        dist_container = []\n",
    "        start = 0\n",
    "        for step in range(0 , steps):\n",
    "            finish = start + window + 1\n",
    "            seq1 = align[pot_rec, start:finish].seq # here is potential recombinant sequence slice\n",
    "            seq2 = align[par, start:finish].seq  # here's parent\n",
    "            dist = pdistance(seq1, seq2)\n",
    "            dist_container.append(dist)\n",
    "            start = finish - 1\n",
    "    \n",
    "        distance_data[align[pot_rec].id + \"_vs_\" + align[par].id] = dist_container\n",
    "    \n",
    "    draw_simplot(distance_data)"
   ]
  }
 ],
 "metadata": {
  "kernelspec": {
   "display_name": "Python 3",
   "language": "python",
   "name": "python3"
  },
  "language_info": {
   "codemirror_mode": {
    "name": "ipython",
    "version": 3
   },
   "file_extension": ".py",
   "mimetype": "text/x-python",
   "name": "python",
   "nbconvert_exporter": "python",
   "pygments_lexer": "ipython3",
   "version": "3.6.5"
  }
 },
 "nbformat": 4,
 "nbformat_minor": 2
}
