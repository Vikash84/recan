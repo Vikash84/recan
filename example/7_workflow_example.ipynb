{
 "cells": [
  {
   "cell_type": "markdown",
   "metadata": {},
   "source": [
    "import 'Simgen' class from 'simgen' module of 'recan' package : "
   ]
  },
  {
   "cell_type": "code",
   "execution_count": 1,
   "metadata": {},
   "outputs": [
    {
     "data": {
      "text/html": [
       "<script>requirejs.config({paths: { 'plotly': ['https://cdn.plot.ly/plotly-latest.min']},});if(!window.Plotly) {{require(['plotly'],function(plotly) {window.Plotly=plotly;});}}</script>"
      ],
      "text/vnd.plotly.v1+html": [
       "<script>requirejs.config({paths: { 'plotly': ['https://cdn.plot.ly/plotly-latest.min']},});if(!window.Plotly) {{require(['plotly'],function(plotly) {window.Plotly=plotly;});}}</script>"
      ]
     },
     "metadata": {},
     "output_type": "display_data"
    }
   ],
   "source": [
    "from recan.simgen import Simgen"
   ]
  },
  {
   "cell_type": "markdown",
   "metadata": {},
   "source": [
    "creating 'Simgen' object. To initialize the object pass your alignment in 'fasta' format as an argument. \n",
    "\n",
    "The input data are taken from the article: \n",
    "\"Hepatitis B Virus of Genotype B with or without Recombination with Genotype C over the Precore Region plus the Core Gene\". Fuminaka Sugauchi et al. JOURNAL OF VIROLOGY, June 2002, p. 5985–5992. 10.1128/JVI.76.12.5985-5992.2002 https://jvi.asm.org/content/76/12/5985 \n",
    "\n"
   ]
  },
  {
   "cell_type": "code",
   "execution_count": 2,
   "metadata": {},
   "outputs": [],
   "source": [
    "sim = Simgen(\"./data/hbv_C_Bj_Ba.fasta\")"
   ]
  },
  {
   "cell_type": "markdown",
   "metadata": {},
   "source": [
    "the object of the Simgen class has method 'get_info()' which returns information about the alignment"
   ]
  },
  {
   "cell_type": "code",
   "execution_count": 3,
   "metadata": {},
   "outputs": [
    {
     "name": "stdout",
     "output_type": "stream",
     "text": [
      "index:\tsequence id:\n",
      "0\tAB048704.1_genotype_C_\n",
      "1\tAB033555.1_Ba\n",
      "2\tAB010291.1_Bj\n",
      "alignment length:  3215\n"
     ]
    }
   ],
   "source": [
    "sim.get_info()"
   ]
  },
  {
   "cell_type": "markdown",
   "metadata": {},
   "source": [
    "So, we have three sequences in our alignment. Simgen class is based on the MultipleSequenceAlignment class of the Biopython library. \n",
    "\n",
    "We can treat our alignment as the array with n_samples and n_features dimensions, where 'samples' are sequences themselves, and the features are columns of nucleotides in the alignment. So, index corresponds to the sequence and gives us access to it, indices start with 0."
   ]
  },
  {
   "cell_type": "markdown",
   "metadata": {},
   "source": [
    "after you've created the object you can draw the similarity plot. \n",
    "\n",
    "call the method 'simgen' of the Simgen object to draw the plot. Pass the following parameters to the method:\n",
    "\n",
    "- 'window': sliding window size. The number of nucleotides the sliding window will span. It has the value of 500 by default.\n",
    "- 'shift': this is the step our window slides downstream the alignment. It's value is set to 250 by default\n",
    "- 'pot_rec': the index of the potential recombinant: use method 'get_info()' to get the indices, especially if your alignment has many sequences. All the other sequences will be plotted as function of distance to that sequence.\n",
    "\n",
    "\n",
    "The article names the isolate of Ba genotype the recombinant between the virus of C genotype and genotype Bj. Let's plot it. We set genotype Ba as the potential recombinant : \n",
    "\n"
   ]
  },
  {
   "cell_type": "code",
   "execution_count": 4,
   "metadata": {},
   "outputs": [
    {
     "data": {
      "application/vnd.plotly.v1+json": {
       "data": [
        {
         "name": "AB048704.1_genotype_C_",
         "type": "scatter",
         "uid": "c1b74230-b10f-11e8-abaa-509a4c2ed471",
         "x": [
          1,
          51,
          101,
          151,
          201,
          251,
          301,
          351,
          401,
          451,
          501,
          551,
          601,
          651,
          701,
          751,
          801,
          851,
          901,
          951,
          1001,
          1051,
          1101,
          1151,
          1201,
          1251,
          1301,
          1351,
          1401,
          1451,
          1501,
          1551,
          1601,
          1651,
          1701,
          1751,
          1801,
          1851,
          1901,
          1951,
          2001,
          2051,
          2101,
          2151,
          2201,
          2251,
          2301,
          2351,
          2401,
          2451,
          2501,
          2551,
          2601,
          2651,
          2701,
          2751,
          2801,
          2851,
          2901,
          2951,
          3001,
          3051,
          3101,
          3151,
          3201,
          3215
         ],
         "y": [
          0.8200000000000001,
          0.895,
          0.895,
          0.925,
          0.925,
          0.9299999999999999,
          0.935,
          0.925,
          0.94,
          0.935,
          0.945,
          0.96,
          0.955,
          0.945,
          0.91,
          0.875,
          0.87,
          0.855,
          0.855,
          0.875,
          0.875,
          0.895,
          0.92,
          0.905,
          0.895,
          0.9,
          0.88,
          0.895,
          0.925,
          0.905,
          0.92,
          0.935,
          0.925,
          0.955,
          0.955,
          0.965,
          0.95,
          0.935,
          0.94,
          0.92,
          0.9299999999999999,
          0.945,
          0.925,
          0.945,
          0.96,
          0.95,
          0.975,
          0.92,
          0.855,
          0.84,
          0.81,
          0.835,
          0.855,
          0.875,
          0.885,
          0.9,
          0.9,
          0.855,
          0.83,
          0.825,
          0.8200000000000001,
          0.8363636363636364,
          0.8608695652173913,
          0.8307692307692307,
          0.9333333333333333
         ]
        },
        {
         "name": "AB010291.1_Bj",
         "type": "scatter",
         "uid": "c1b76978-b10f-11e8-805d-509a4c2ed471",
         "x": [
          1,
          51,
          101,
          151,
          201,
          251,
          301,
          351,
          401,
          451,
          501,
          551,
          601,
          651,
          701,
          751,
          801,
          851,
          901,
          951,
          1001,
          1051,
          1101,
          1151,
          1201,
          1251,
          1301,
          1351,
          1401,
          1451,
          1501,
          1551,
          1601,
          1651,
          1701,
          1751,
          1801,
          1851,
          1901,
          1951,
          2001,
          2051,
          2101,
          2151,
          2201,
          2251,
          2301,
          2351,
          2401,
          2451,
          2501,
          2551,
          2601,
          2651,
          2701,
          2751,
          2801,
          2851,
          2901,
          2951,
          3001,
          3051,
          3101,
          3151,
          3201,
          3215
         ],
         "y": [
          0.98,
          0.965,
          0.98,
          0.99,
          0.985,
          0.99,
          0.995,
          0.98,
          0.975,
          0.975,
          0.975,
          0.99,
          0.995,
          0.975,
          0.955,
          0.9,
          0.895,
          0.89,
          0.89,
          0.915,
          0.915,
          0.935,
          0.955,
          0.955,
          0.95,
          0.955,
          0.94,
          0.965,
          0.98,
          0.97,
          0.98,
          0.975,
          0.97,
          0.97,
          0.965,
          0.95,
          0.91,
          0.88,
          0.85,
          0.83,
          0.825,
          0.865,
          0.885,
          0.9299999999999999,
          0.98,
          0.97,
          0.98,
          0.935,
          0.915,
          0.905,
          0.89,
          0.925,
          0.9299999999999999,
          0.94,
          0.95,
          0.945,
          0.945,
          0.935,
          0.935,
          0.935,
          0.9299999999999999,
          0.9272727272727272,
          0.9217391304347826,
          0.9076923076923077,
          0.8666666666666667
         ]
        }
       ],
       "layout": {
        "legend": {
         "orientation": "h",
         "x": -0.1,
         "y": 1.5
        },
        "xaxis": {
         "title": "nucleotide position"
        },
        "yaxis": {
         "title": "sequence identity"
        }
       }
      },
      "text/html": [
       "<div id=\"d7d1f483-5422-44da-a4d7-8fbba933bba0\" style=\"height: 525px; width: 100%;\" class=\"plotly-graph-div\"></div><script type=\"text/javascript\">require([\"plotly\"], function(Plotly) { window.PLOTLYENV=window.PLOTLYENV || {};window.PLOTLYENV.BASE_URL=\"https://plot.ly\";\n",
       "        Plotly.plot(\n",
       "            'd7d1f483-5422-44da-a4d7-8fbba933bba0',\n",
       "            [{\"name\": \"AB048704.1_genotype_C_\", \"x\": [1, 51, 101, 151, 201, 251, 301, 351, 401, 451, 501, 551, 601, 651, 701, 751, 801, 851, 901, 951, 1001, 1051, 1101, 1151, 1201, 1251, 1301, 1351, 1401, 1451, 1501, 1551, 1601, 1651, 1701, 1751, 1801, 1851, 1901, 1951, 2001, 2051, 2101, 2151, 2201, 2251, 2301, 2351, 2401, 2451, 2501, 2551, 2601, 2651, 2701, 2751, 2801, 2851, 2901, 2951, 3001, 3051, 3101, 3151, 3201, 3215], \"y\": [0.8200000000000001, 0.895, 0.895, 0.925, 0.925, 0.9299999999999999, 0.935, 0.925, 0.94, 0.935, 0.945, 0.96, 0.955, 0.945, 0.91, 0.875, 0.87, 0.855, 0.855, 0.875, 0.875, 0.895, 0.92, 0.905, 0.895, 0.9, 0.88, 0.895, 0.925, 0.905, 0.92, 0.935, 0.925, 0.955, 0.955, 0.965, 0.95, 0.935, 0.94, 0.92, 0.9299999999999999, 0.945, 0.925, 0.945, 0.96, 0.95, 0.975, 0.92, 0.855, 0.84, 0.81, 0.835, 0.855, 0.875, 0.885, 0.9, 0.9, 0.855, 0.83, 0.825, 0.8200000000000001, 0.8363636363636364, 0.8608695652173913, 0.8307692307692307, 0.9333333333333333], \"type\": \"scatter\", \"uid\": \"c1b74230-b10f-11e8-abaa-509a4c2ed471\"}, {\"name\": \"AB010291.1_Bj\", \"x\": [1, 51, 101, 151, 201, 251, 301, 351, 401, 451, 501, 551, 601, 651, 701, 751, 801, 851, 901, 951, 1001, 1051, 1101, 1151, 1201, 1251, 1301, 1351, 1401, 1451, 1501, 1551, 1601, 1651, 1701, 1751, 1801, 1851, 1901, 1951, 2001, 2051, 2101, 2151, 2201, 2251, 2301, 2351, 2401, 2451, 2501, 2551, 2601, 2651, 2701, 2751, 2801, 2851, 2901, 2951, 3001, 3051, 3101, 3151, 3201, 3215], \"y\": [0.98, 0.965, 0.98, 0.99, 0.985, 0.99, 0.995, 0.98, 0.975, 0.975, 0.975, 0.99, 0.995, 0.975, 0.955, 0.9, 0.895, 0.89, 0.89, 0.915, 0.915, 0.935, 0.955, 0.955, 0.95, 0.955, 0.94, 0.965, 0.98, 0.97, 0.98, 0.975, 0.97, 0.97, 0.965, 0.95, 0.91, 0.88, 0.85, 0.83, 0.825, 0.865, 0.885, 0.9299999999999999, 0.98, 0.97, 0.98, 0.935, 0.915, 0.905, 0.89, 0.925, 0.9299999999999999, 0.94, 0.95, 0.945, 0.945, 0.935, 0.935, 0.935, 0.9299999999999999, 0.9272727272727272, 0.9217391304347826, 0.9076923076923077, 0.8666666666666667], \"type\": \"scatter\", \"uid\": \"c1b76978-b10f-11e8-805d-509a4c2ed471\"}],\n",
       "            {\"legend\": {\"orientation\": \"h\", \"x\": -0.1, \"y\": 1.5}, \"xaxis\": {\"title\": \"nucleotide position\"}, \"yaxis\": {\"title\": \"sequence identity\"}},\n",
       "            {\"showLink\": true, \"linkText\": \"Export to plot.ly\"}\n",
       "        ).then(function () {return Plotly.addFrames('d7d1f483-5422-44da-a4d7-8fbba933bba0',{});}).then(function(){Plotly.animate('d7d1f483-5422-44da-a4d7-8fbba933bba0');})\n",
       "        });</script>"
      ],
      "text/vnd.plotly.v1+html": [
       "<div id=\"d7d1f483-5422-44da-a4d7-8fbba933bba0\" style=\"height: 525px; width: 100%;\" class=\"plotly-graph-div\"></div><script type=\"text/javascript\">require([\"plotly\"], function(Plotly) { window.PLOTLYENV=window.PLOTLYENV || {};window.PLOTLYENV.BASE_URL=\"https://plot.ly\";\n",
       "        Plotly.plot(\n",
       "            'd7d1f483-5422-44da-a4d7-8fbba933bba0',\n",
       "            [{\"name\": \"AB048704.1_genotype_C_\", \"x\": [1, 51, 101, 151, 201, 251, 301, 351, 401, 451, 501, 551, 601, 651, 701, 751, 801, 851, 901, 951, 1001, 1051, 1101, 1151, 1201, 1251, 1301, 1351, 1401, 1451, 1501, 1551, 1601, 1651, 1701, 1751, 1801, 1851, 1901, 1951, 2001, 2051, 2101, 2151, 2201, 2251, 2301, 2351, 2401, 2451, 2501, 2551, 2601, 2651, 2701, 2751, 2801, 2851, 2901, 2951, 3001, 3051, 3101, 3151, 3201, 3215], \"y\": [0.8200000000000001, 0.895, 0.895, 0.925, 0.925, 0.9299999999999999, 0.935, 0.925, 0.94, 0.935, 0.945, 0.96, 0.955, 0.945, 0.91, 0.875, 0.87, 0.855, 0.855, 0.875, 0.875, 0.895, 0.92, 0.905, 0.895, 0.9, 0.88, 0.895, 0.925, 0.905, 0.92, 0.935, 0.925, 0.955, 0.955, 0.965, 0.95, 0.935, 0.94, 0.92, 0.9299999999999999, 0.945, 0.925, 0.945, 0.96, 0.95, 0.975, 0.92, 0.855, 0.84, 0.81, 0.835, 0.855, 0.875, 0.885, 0.9, 0.9, 0.855, 0.83, 0.825, 0.8200000000000001, 0.8363636363636364, 0.8608695652173913, 0.8307692307692307, 0.9333333333333333], \"type\": \"scatter\", \"uid\": \"c1b74230-b10f-11e8-abaa-509a4c2ed471\"}, {\"name\": \"AB010291.1_Bj\", \"x\": [1, 51, 101, 151, 201, 251, 301, 351, 401, 451, 501, 551, 601, 651, 701, 751, 801, 851, 901, 951, 1001, 1051, 1101, 1151, 1201, 1251, 1301, 1351, 1401, 1451, 1501, 1551, 1601, 1651, 1701, 1751, 1801, 1851, 1901, 1951, 2001, 2051, 2101, 2151, 2201, 2251, 2301, 2351, 2401, 2451, 2501, 2551, 2601, 2651, 2701, 2751, 2801, 2851, 2901, 2951, 3001, 3051, 3101, 3151, 3201, 3215], \"y\": [0.98, 0.965, 0.98, 0.99, 0.985, 0.99, 0.995, 0.98, 0.975, 0.975, 0.975, 0.99, 0.995, 0.975, 0.955, 0.9, 0.895, 0.89, 0.89, 0.915, 0.915, 0.935, 0.955, 0.955, 0.95, 0.955, 0.94, 0.965, 0.98, 0.97, 0.98, 0.975, 0.97, 0.97, 0.965, 0.95, 0.91, 0.88, 0.85, 0.83, 0.825, 0.865, 0.885, 0.9299999999999999, 0.98, 0.97, 0.98, 0.935, 0.915, 0.905, 0.89, 0.925, 0.9299999999999999, 0.94, 0.95, 0.945, 0.945, 0.935, 0.935, 0.935, 0.9299999999999999, 0.9272727272727272, 0.9217391304347826, 0.9076923076923077, 0.8666666666666667], \"type\": \"scatter\", \"uid\": \"c1b76978-b10f-11e8-805d-509a4c2ed471\"}],\n",
       "            {\"legend\": {\"orientation\": \"h\", \"x\": -0.1, \"y\": 1.5}, \"xaxis\": {\"title\": \"nucleotide position\"}, \"yaxis\": {\"title\": \"sequence identity\"}},\n",
       "            {\"showLink\": true, \"linkText\": \"Export to plot.ly\"}\n",
       "        ).then(function () {return Plotly.addFrames('d7d1f483-5422-44da-a4d7-8fbba933bba0',{});}).then(function(){Plotly.animate('d7d1f483-5422-44da-a4d7-8fbba933bba0');})\n",
       "        });</script>"
      ]
     },
     "metadata": {},
     "output_type": "display_data"
    }
   ],
   "source": [
    "sim.simgen(window=200, shift=50, pot_rec=1)"
   ]
  },
  {
   "cell_type": "markdown",
   "metadata": {},
   "source": [
    "potential recombinant is not shown in the plot, as the distances are calculated relative to it The higher is the distance function (i.e. the closer to 1), the closer is the sequence to the recombinant and vice versa. \n",
    "\n",
    "we can see typical 'crossover' of the distances which is the indicator of the possible recombination event. The distance of one isolate 'drops down' whereas the distance of the other remains the same of even gets closer to the potential recombinant, this abrupt drop shows that recombination could take place."
   ]
  },
  {
   "cell_type": "markdown",
   "metadata": {},
   "source": [
    "the picture from the article is shown below. It's just turned upside down relative to our plot, and instead of distance drop we see distance rising. Here goes away from the genotype C, whereas Ba keeps the same distance"
   ]
  },
  {
   "cell_type": "markdown",
   "metadata": {},
   "source": [
    "![title](./data/hbv_C_Bj_Ba.jpg)"
   ]
  },
  {
   "cell_type": "markdown",
   "metadata": {},
   "source": [
    "By default 'simgen' method plots the whole alignment. But after initial exploration, we can take a closer look at a particular region by passing the 'region' parameter to the simgen method. We can slice the alignment by using this parameter. 'region' must be a tuple or a list with two integers: the start and the end position of the alignment slice.\n",
    "```\n",
    "region = (start, end)\n",
    "```"
   ]
  },
  {
   "cell_type": "code",
   "execution_count": 5,
   "metadata": {},
   "outputs": [
    {
     "data": {
      "application/vnd.plotly.v1+json": {
       "data": [
        {
         "name": "AB048704.1_genotype_C_",
         "type": "scatter",
         "uid": "c1c18b3a-b10f-11e8-9224-509a4c2ed471",
         "x": [
          1000,
          1050,
          1100,
          1150,
          1200,
          1250,
          1300,
          1350,
          1400,
          1450,
          1500,
          1550,
          1600,
          1650,
          1700,
          1750,
          1800,
          1850,
          1900,
          1950,
          2000,
          2050,
          2100,
          2150,
          2200,
          2250,
          2300,
          2350,
          2400,
          2450,
          2500,
          2550,
          2600,
          2650,
          2700
         ],
         "y": [
          0.86,
          0.895,
          0.92,
          0.905,
          0.895,
          0.9,
          0.88,
          0.895,
          0.925,
          0.905,
          0.92,
          0.935,
          0.925,
          0.955,
          0.955,
          0.965,
          0.95,
          0.935,
          0.94,
          0.92,
          0.9299999999999999,
          0.945,
          0.925,
          0.945,
          0.96,
          0.95,
          0.975,
          0.92,
          0.855,
          0.84,
          0.81,
          0.8266666666666667,
          0.87,
          0.84
         ]
        },
        {
         "name": "AB010291.1_Bj",
         "type": "scatter",
         "uid": "c1c18b3b-b10f-11e8-b326-509a4c2ed471",
         "x": [
          1000,
          1050,
          1100,
          1150,
          1200,
          1250,
          1300,
          1350,
          1400,
          1450,
          1500,
          1550,
          1600,
          1650,
          1700,
          1750,
          1800,
          1850,
          1900,
          1950,
          2000,
          2050,
          2100,
          2150,
          2200,
          2250,
          2300,
          2350,
          2400,
          2450,
          2500,
          2550,
          2600,
          2650,
          2700
         ],
         "y": [
          0.9,
          0.935,
          0.955,
          0.955,
          0.95,
          0.955,
          0.94,
          0.965,
          0.98,
          0.97,
          0.98,
          0.975,
          0.97,
          0.97,
          0.965,
          0.95,
          0.91,
          0.88,
          0.85,
          0.83,
          0.825,
          0.865,
          0.885,
          0.9299999999999999,
          0.98,
          0.97,
          0.98,
          0.935,
          0.915,
          0.905,
          0.89,
          0.9133333333333333,
          0.91,
          0.9
         ]
        }
       ],
       "layout": {
        "legend": {
         "orientation": "h",
         "x": -0.1,
         "y": 1.5
        },
        "xaxis": {
         "title": "nucleotide position"
        },
        "yaxis": {
         "title": "sequence identity"
        }
       }
      },
      "text/html": [
       "<div id=\"62a41b4e-2b79-4183-a639-2a362383b087\" style=\"height: 525px; width: 100%;\" class=\"plotly-graph-div\"></div><script type=\"text/javascript\">require([\"plotly\"], function(Plotly) { window.PLOTLYENV=window.PLOTLYENV || {};window.PLOTLYENV.BASE_URL=\"https://plot.ly\";\n",
       "        Plotly.plot(\n",
       "            '62a41b4e-2b79-4183-a639-2a362383b087',\n",
       "            [{\"name\": \"AB048704.1_genotype_C_\", \"x\": [1000, 1050, 1100, 1150, 1200, 1250, 1300, 1350, 1400, 1450, 1500, 1550, 1600, 1650, 1700, 1750, 1800, 1850, 1900, 1950, 2000, 2050, 2100, 2150, 2200, 2250, 2300, 2350, 2400, 2450, 2500, 2550, 2600, 2650, 2700], \"y\": [0.86, 0.895, 0.92, 0.905, 0.895, 0.9, 0.88, 0.895, 0.925, 0.905, 0.92, 0.935, 0.925, 0.955, 0.955, 0.965, 0.95, 0.935, 0.94, 0.92, 0.9299999999999999, 0.945, 0.925, 0.945, 0.96, 0.95, 0.975, 0.92, 0.855, 0.84, 0.81, 0.8266666666666667, 0.87, 0.84], \"type\": \"scatter\", \"uid\": \"c1c18b3a-b10f-11e8-9224-509a4c2ed471\"}, {\"name\": \"AB010291.1_Bj\", \"x\": [1000, 1050, 1100, 1150, 1200, 1250, 1300, 1350, 1400, 1450, 1500, 1550, 1600, 1650, 1700, 1750, 1800, 1850, 1900, 1950, 2000, 2050, 2100, 2150, 2200, 2250, 2300, 2350, 2400, 2450, 2500, 2550, 2600, 2650, 2700], \"y\": [0.9, 0.935, 0.955, 0.955, 0.95, 0.955, 0.94, 0.965, 0.98, 0.97, 0.98, 0.975, 0.97, 0.97, 0.965, 0.95, 0.91, 0.88, 0.85, 0.83, 0.825, 0.865, 0.885, 0.9299999999999999, 0.98, 0.97, 0.98, 0.935, 0.915, 0.905, 0.89, 0.9133333333333333, 0.91, 0.9], \"type\": \"scatter\", \"uid\": \"c1c18b3b-b10f-11e8-b326-509a4c2ed471\"}],\n",
       "            {\"legend\": {\"orientation\": \"h\", \"x\": -0.1, \"y\": 1.5}, \"xaxis\": {\"title\": \"nucleotide position\"}, \"yaxis\": {\"title\": \"sequence identity\"}},\n",
       "            {\"showLink\": true, \"linkText\": \"Export to plot.ly\"}\n",
       "        ).then(function () {return Plotly.addFrames('62a41b4e-2b79-4183-a639-2a362383b087',{});}).then(function(){Plotly.animate('62a41b4e-2b79-4183-a639-2a362383b087');})\n",
       "        });</script>"
      ],
      "text/vnd.plotly.v1+html": [
       "<div id=\"62a41b4e-2b79-4183-a639-2a362383b087\" style=\"height: 525px; width: 100%;\" class=\"plotly-graph-div\"></div><script type=\"text/javascript\">require([\"plotly\"], function(Plotly) { window.PLOTLYENV=window.PLOTLYENV || {};window.PLOTLYENV.BASE_URL=\"https://plot.ly\";\n",
       "        Plotly.plot(\n",
       "            '62a41b4e-2b79-4183-a639-2a362383b087',\n",
       "            [{\"name\": \"AB048704.1_genotype_C_\", \"x\": [1000, 1050, 1100, 1150, 1200, 1250, 1300, 1350, 1400, 1450, 1500, 1550, 1600, 1650, 1700, 1750, 1800, 1850, 1900, 1950, 2000, 2050, 2100, 2150, 2200, 2250, 2300, 2350, 2400, 2450, 2500, 2550, 2600, 2650, 2700], \"y\": [0.86, 0.895, 0.92, 0.905, 0.895, 0.9, 0.88, 0.895, 0.925, 0.905, 0.92, 0.935, 0.925, 0.955, 0.955, 0.965, 0.95, 0.935, 0.94, 0.92, 0.9299999999999999, 0.945, 0.925, 0.945, 0.96, 0.95, 0.975, 0.92, 0.855, 0.84, 0.81, 0.8266666666666667, 0.87, 0.84], \"type\": \"scatter\", \"uid\": \"c1c18b3a-b10f-11e8-9224-509a4c2ed471\"}, {\"name\": \"AB010291.1_Bj\", \"x\": [1000, 1050, 1100, 1150, 1200, 1250, 1300, 1350, 1400, 1450, 1500, 1550, 1600, 1650, 1700, 1750, 1800, 1850, 1900, 1950, 2000, 2050, 2100, 2150, 2200, 2250, 2300, 2350, 2400, 2450, 2500, 2550, 2600, 2650, 2700], \"y\": [0.9, 0.935, 0.955, 0.955, 0.95, 0.955, 0.94, 0.965, 0.98, 0.97, 0.98, 0.975, 0.97, 0.97, 0.965, 0.95, 0.91, 0.88, 0.85, 0.83, 0.825, 0.865, 0.885, 0.9299999999999999, 0.98, 0.97, 0.98, 0.935, 0.915, 0.905, 0.89, 0.9133333333333333, 0.91, 0.9], \"type\": \"scatter\", \"uid\": \"c1c18b3b-b10f-11e8-b326-509a4c2ed471\"}],\n",
       "            {\"legend\": {\"orientation\": \"h\", \"x\": -0.1, \"y\": 1.5}, \"xaxis\": {\"title\": \"nucleotide position\"}, \"yaxis\": {\"title\": \"sequence identity\"}},\n",
       "            {\"showLink\": true, \"linkText\": \"Export to plot.ly\"}\n",
       "        ).then(function () {return Plotly.addFrames('62a41b4e-2b79-4183-a639-2a362383b087',{});}).then(function(){Plotly.animate('62a41b4e-2b79-4183-a639-2a362383b087');})\n",
       "        });</script>"
      ]
     },
     "metadata": {},
     "output_type": "display_data"
    }
   ],
   "source": [
    "sim.simgen(window=200, shift=50, pot_rec=1, region=(1000, 2700))"
   ]
  },
  {
   "cell_type": "markdown",
   "metadata": {},
   "source": [
    "to customize the plot or export the data, use 'get_df()' method. 'get_df' returns pandas DataFrame object with sequences as samples, and distances as features."
   ]
  },
  {
   "cell_type": "code",
   "execution_count": 6,
   "metadata": {},
   "outputs": [
    {
     "data": {
      "text/html": [
       "<div>\n",
       "<style scoped>\n",
       "    .dataframe tbody tr th:only-of-type {\n",
       "        vertical-align: middle;\n",
       "    }\n",
       "\n",
       "    .dataframe tbody tr th {\n",
       "        vertical-align: top;\n",
       "    }\n",
       "\n",
       "    .dataframe thead th {\n",
       "        text-align: right;\n",
       "    }\n",
       "</style>\n",
       "<table border=\"1\" class=\"dataframe\">\n",
       "  <thead>\n",
       "    <tr style=\"text-align: right;\">\n",
       "      <th></th>\n",
       "      <th>1050</th>\n",
       "      <th>1100</th>\n",
       "      <th>1150</th>\n",
       "      <th>1200</th>\n",
       "      <th>1250</th>\n",
       "      <th>1300</th>\n",
       "      <th>1350</th>\n",
       "      <th>1400</th>\n",
       "      <th>1450</th>\n",
       "      <th>1500</th>\n",
       "      <th>...</th>\n",
       "      <th>2250</th>\n",
       "      <th>2300</th>\n",
       "      <th>2350</th>\n",
       "      <th>2400</th>\n",
       "      <th>2450</th>\n",
       "      <th>2500</th>\n",
       "      <th>2550</th>\n",
       "      <th>2600</th>\n",
       "      <th>2650</th>\n",
       "      <th>2700</th>\n",
       "    </tr>\n",
       "  </thead>\n",
       "  <tbody>\n",
       "    <tr>\n",
       "      <th>AB048704.1_genotype_C_</th>\n",
       "      <td>0.86</td>\n",
       "      <td>0.895</td>\n",
       "      <td>0.920</td>\n",
       "      <td>0.905</td>\n",
       "      <td>0.895</td>\n",
       "      <td>0.900</td>\n",
       "      <td>0.88</td>\n",
       "      <td>0.895</td>\n",
       "      <td>0.925</td>\n",
       "      <td>0.905</td>\n",
       "      <td>...</td>\n",
       "      <td>0.96</td>\n",
       "      <td>0.95</td>\n",
       "      <td>0.975</td>\n",
       "      <td>0.920</td>\n",
       "      <td>0.855</td>\n",
       "      <td>0.840</td>\n",
       "      <td>0.81</td>\n",
       "      <td>0.826667</td>\n",
       "      <td>0.87</td>\n",
       "      <td>0.84</td>\n",
       "    </tr>\n",
       "    <tr>\n",
       "      <th>AB010291.1_Bj</th>\n",
       "      <td>0.90</td>\n",
       "      <td>0.935</td>\n",
       "      <td>0.955</td>\n",
       "      <td>0.955</td>\n",
       "      <td>0.950</td>\n",
       "      <td>0.955</td>\n",
       "      <td>0.94</td>\n",
       "      <td>0.965</td>\n",
       "      <td>0.980</td>\n",
       "      <td>0.970</td>\n",
       "      <td>...</td>\n",
       "      <td>0.98</td>\n",
       "      <td>0.97</td>\n",
       "      <td>0.980</td>\n",
       "      <td>0.935</td>\n",
       "      <td>0.915</td>\n",
       "      <td>0.905</td>\n",
       "      <td>0.89</td>\n",
       "      <td>0.913333</td>\n",
       "      <td>0.91</td>\n",
       "      <td>0.90</td>\n",
       "    </tr>\n",
       "  </tbody>\n",
       "</table>\n",
       "<p>2 rows × 34 columns</p>\n",
       "</div>"
      ],
      "text/plain": [
       "                        1050   1100   1150   1200   1250   1300  1350   1400  \\\n",
       "AB048704.1_genotype_C_  0.86  0.895  0.920  0.905  0.895  0.900  0.88  0.895   \n",
       "AB010291.1_Bj           0.90  0.935  0.955  0.955  0.950  0.955  0.94  0.965   \n",
       "\n",
       "                         1450   1500  ...   2250  2300   2350   2400   2450  \\\n",
       "AB048704.1_genotype_C_  0.925  0.905  ...   0.96  0.95  0.975  0.920  0.855   \n",
       "AB010291.1_Bj           0.980  0.970  ...   0.98  0.97  0.980  0.935  0.915   \n",
       "\n",
       "                         2500  2550      2600  2650  2700  \n",
       "AB048704.1_genotype_C_  0.840  0.81  0.826667  0.87  0.84  \n",
       "AB010291.1_Bj           0.905  0.89  0.913333  0.91  0.90  \n",
       "\n",
       "[2 rows x 34 columns]"
      ]
     },
     "execution_count": 6,
     "metadata": {},
     "output_type": "execute_result"
    }
   ],
   "source": [
    "sim.get_data()"
   ]
  },
  {
   "cell_type": "code",
   "execution_count": 7,
   "metadata": {},
   "outputs": [],
   "source": [
    "df = sim.get_data()"
   ]
  },
  {
   "cell_type": "markdown",
   "metadata": {},
   "source": [
    "after explorting data to DataFrame we can easily customize the plot :"
   ]
  },
  {
   "cell_type": "code",
   "execution_count": 11,
   "metadata": {},
   "outputs": [
    {
     "data": {
      "image/png": "[encoded data removed]",
      "text/plain": [
       "<Figure size 1440x576 with 1 Axes>"
      ]
     },
     "metadata": {},
     "output_type": "display_data"
    }
   ],
   "source": [
    "import matplotlib.pyplot as plt\n",
    "import seaborn as sns\n",
    "sns.set()\n",
    "\n",
    "fig_dist1 = plt.figure(figsize=(20, 8))\n",
    "plt.plot(df.loc[\"AB048704.1_genotype_C_\", : ], lw=7, alpha=0.7, label=\"AB048704.1_genotype_C_\")\n",
    "plt.plot(df.loc[\"AB010291.1_Bj\", : ], lw=7, alpha=0.7, label=\"AB010291.1_Bj\")\n",
    "\n",
    "plt.ylim(0.75, 1.05)\n",
    "plt.title(\"similarity distance plot\", fontsize=25)\n",
    "plt.ylabel(\"distance relative to Ba\", fontsize=20)\n",
    "plt.xlabel(\"nucleotide position\", fontsize=20)\n",
    "plt.xticks(fontsize=15) \n",
    "plt.yticks(fontsize=15)\n",
    "\n",
    "plt.axvline(1750, alpha=0.5, color=\"red\", lw=3,\n",
    "            linestyle=\"dashed\", label=\"putative recombination break points\")\n",
    "plt.axvline(2250, alpha=0.5, color=\"red\", lw=3,\n",
    "            linestyle=\"dashed\"  )\n",
    "\n",
    "plt.legend(prop={\"size\":20})\n",
    "plt.show()\n"
   ]
  },
  {
   "cell_type": "code",
   "execution_count": null,
   "metadata": {},
   "outputs": [],
   "source": []
  },
  {
   "cell_type": "markdown",
   "metadata": {},
   "source": [
    "pandas DataFrame object is easy to manipulate. To export and store the data use pandas methods to_excel() or to_csc()"
   ]
  },
  {
   "cell_type": "code",
   "execution_count": 12,
   "metadata": {},
   "outputs": [],
   "source": [
    "df.to_csv(\"hbv_distance.csv\")"
   ]
  },
  {
   "cell_type": "markdown",
   "metadata": {},
   "source": [
    "if settind optional parameter 'df' of the method 'get_df' to False, method returns the dictionary, where keys are sequences names, and lists under the keys are distance data"
   ]
  },
  {
   "cell_type": "code",
   "execution_count": 14,
   "metadata": {
    "scrolled": true
   },
   "outputs": [
    {
     "name": "stdout",
     "output_type": "stream",
     "text": [
      "{'AB048704.1_genotype_C_': [0.86, 0.895, 0.92, 0.905, 0.895, 0.9, 0.88, 0.895, 0.925, 0.905, 0.92, 0.935, 0.925, 0.955, 0.955, 0.965, 0.95, 0.935, 0.94, 0.92, 0.9299999999999999, 0.945, 0.925, 0.945, 0.96, 0.95, 0.975, 0.92, 0.855, 0.84, 0.81, 0.8266666666666667, 0.87, 0.84], 'AB010291.1_Bj': [0.9, 0.935, 0.955, 0.955, 0.95, 0.955, 0.94, 0.965, 0.98, 0.97, 0.98, 0.975, 0.97, 0.97, 0.965, 0.95, 0.91, 0.88, 0.85, 0.83, 0.825, 0.865, 0.885, 0.9299999999999999, 0.98, 0.97, 0.98, 0.935, 0.915, 0.905, 0.89, 0.9133333333333333, 0.91, 0.9]}\n"
     ]
    }
   ],
   "source": [
    "print(sim.get_data(df=False))"
   ]
  },
  {
   "cell_type": "markdown",
   "metadata": {},
   "source": [
    "'simgen()' method has optional parameter 'dist' which denoted method used to calculate pairwise distance. By default 'dist='pdistance' and calculates simple pairwise distance. To use Kimura 2 parameter distance pass set 'dist='k2p''"
   ]
  },
  {
   "cell_type": "code",
   "execution_count": 16,
   "metadata": {},
   "outputs": [
    {
     "data": {
      "application/vnd.plotly.v1+json": {
       "data": [
        {
         "name": "AB048704.1_genotype_C_",
         "type": "scatter",
         "uid": "2a87ad7a-b110-11e8-a377-509a4c2ed471",
         "x": [
          1000,
          1050,
          1100,
          1150,
          1200,
          1250,
          1300,
          1350,
          1400,
          1450,
          1500,
          1550,
          1600,
          1650,
          1700,
          1750,
          1800,
          1850,
          1900,
          1950,
          2000,
          2050,
          2100,
          2150,
          2200,
          2250,
          2300,
          2350,
          2400,
          2450,
          2500,
          2550,
          2600,
          2650,
          2700
         ],
         "y": [
          0.8419361749143571,
          0.885305679708559,
          0.9152379120102948,
          0.8980954251095012,
          0.8864831775131545,
          0.8922130043197081,
          0.8682993554277171,
          0.8866572201235305,
          0.9207735098041874,
          0.8982484262182516,
          0.9150916304790297,
          0.931850891241565,
          0.9206144633155356,
          0.9534044273939669,
          0.9534044273939669,
          0.9638830411898996,
          0.9481036969004106,
          0.9317108960494715,
          0.9374417199379832,
          0.9153385131450859,
          0.9262642409425024,
          0.9427610695498044,
          0.9206144633155356,
          0.9424750304877174,
          0.9587808232820978,
          0.9481036969004106,
          0.9745383259104925,
          0.9153929629575677,
          0.8387110232882241,
          0.8197048832518368,
          0.780529287755525,
          0.8022782262586695,
          0.8569337619085278,
          0.8199834325221977
         ]
        },
        {
         "name": "AB010291.1_Bj",
         "type": "scatter",
         "uid": "2a87ad7b-b110-11e8-a688-509a4c2ed471",
         "x": [
          1000,
          1050,
          1100,
          1150,
          1200,
          1250,
          1300,
          1350,
          1400,
          1450,
          1500,
          1550,
          1600,
          1650,
          1700,
          1750,
          1800,
          1850,
          1900,
          1950,
          2000,
          2050,
          2100,
          2150,
          2200,
          2250,
          2300,
          2350,
          2400,
          2450,
          2500,
          2550,
          2600,
          2650,
          2700
         ],
         "y": [
          0.8919779041928484,
          0.9317108960494715,
          0.9534044273939669,
          0.9535091549525184,
          0.9481036969004106,
          0.9535091549525184,
          0.9373758093348574,
          0.9641000223846257,
          0.9797197194282659,
          0.9693026759768449,
          0.9795890027398724,
          0.9744654467859213,
          0.9693026759768449,
          0.9693632288781194,
          0.9641000223846257,
          0.9481959056682564,
          0.9039094441070608,
          0.8688161877606098,
          0.8316118954991503,
          0.8054278777409061,
          0.7953223991161772,
          0.847312726219598,
          0.8729593734133732,
          0.9253182895038663,
          0.9797197194282659,
          0.9693632288781194,
          0.979673827215049,
          0.9317108960494715,
          0.9091197042031862,
          0.8973544554980892,
          0.8791706334126518,
          0.9060661383306312,
          0.9017845340748735,
          0.8884282243428951
         ]
        }
       ],
       "layout": {
        "legend": {
         "orientation": "h",
         "x": -0.1,
         "y": 1.5
        },
        "xaxis": {
         "title": "nucleotide position"
        },
        "yaxis": {
         "title": "sequence identity"
        }
       }
      },
      "text/html": [
       "<div id=\"53d2c83c-90b8-4957-b4d9-c7b23546efa7\" style=\"height: 525px; width: 100%;\" class=\"plotly-graph-div\"></div><script type=\"text/javascript\">require([\"plotly\"], function(Plotly) { window.PLOTLYENV=window.PLOTLYENV || {};window.PLOTLYENV.BASE_URL=\"https://plot.ly\";\n",
       "        Plotly.plot(\n",
       "            '53d2c83c-90b8-4957-b4d9-c7b23546efa7',\n",
       "            [{\"name\": \"AB048704.1_genotype_C_\", \"x\": [1000, 1050, 1100, 1150, 1200, 1250, 1300, 1350, 1400, 1450, 1500, 1550, 1600, 1650, 1700, 1750, 1800, 1850, 1900, 1950, 2000, 2050, 2100, 2150, 2200, 2250, 2300, 2350, 2400, 2450, 2500, 2550, 2600, 2650, 2700], \"y\": [0.8419361749143571, 0.885305679708559, 0.9152379120102948, 0.8980954251095012, 0.8864831775131545, 0.8922130043197081, 0.8682993554277171, 0.8866572201235305, 0.9207735098041874, 0.8982484262182516, 0.9150916304790297, 0.931850891241565, 0.9206144633155356, 0.9534044273939669, 0.9534044273939669, 0.9638830411898996, 0.9481036969004106, 0.9317108960494715, 0.9374417199379832, 0.9153385131450859, 0.9262642409425024, 0.9427610695498044, 0.9206144633155356, 0.9424750304877174, 0.9587808232820978, 0.9481036969004106, 0.9745383259104925, 0.9153929629575677, 0.8387110232882241, 0.8197048832518368, 0.780529287755525, 0.8022782262586695, 0.8569337619085278, 0.8199834325221977], \"type\": \"scatter\", \"uid\": \"2a87ad7a-b110-11e8-a377-509a4c2ed471\"}, {\"name\": \"AB010291.1_Bj\", \"x\": [1000, 1050, 1100, 1150, 1200, 1250, 1300, 1350, 1400, 1450, 1500, 1550, 1600, 1650, 1700, 1750, 1800, 1850, 1900, 1950, 2000, 2050, 2100, 2150, 2200, 2250, 2300, 2350, 2400, 2450, 2500, 2550, 2600, 2650, 2700], \"y\": [0.8919779041928484, 0.9317108960494715, 0.9534044273939669, 0.9535091549525184, 0.9481036969004106, 0.9535091549525184, 0.9373758093348574, 0.9641000223846257, 0.9797197194282659, 0.9693026759768449, 0.9795890027398724, 0.9744654467859213, 0.9693026759768449, 0.9693632288781194, 0.9641000223846257, 0.9481959056682564, 0.9039094441070608, 0.8688161877606098, 0.8316118954991503, 0.8054278777409061, 0.7953223991161772, 0.847312726219598, 0.8729593734133732, 0.9253182895038663, 0.9797197194282659, 0.9693632288781194, 0.979673827215049, 0.9317108960494715, 0.9091197042031862, 0.8973544554980892, 0.8791706334126518, 0.9060661383306312, 0.9017845340748735, 0.8884282243428951], \"type\": \"scatter\", \"uid\": \"2a87ad7b-b110-11e8-a688-509a4c2ed471\"}],\n",
       "            {\"legend\": {\"orientation\": \"h\", \"x\": -0.1, \"y\": 1.5}, \"xaxis\": {\"title\": \"nucleotide position\"}, \"yaxis\": {\"title\": \"sequence identity\"}},\n",
       "            {\"showLink\": true, \"linkText\": \"Export to plot.ly\"}\n",
       "        ).then(function () {return Plotly.addFrames('53d2c83c-90b8-4957-b4d9-c7b23546efa7',{});}).then(function(){Plotly.animate('53d2c83c-90b8-4957-b4d9-c7b23546efa7');})\n",
       "        });</script>"
      ],
      "text/vnd.plotly.v1+html": [
       "<div id=\"53d2c83c-90b8-4957-b4d9-c7b23546efa7\" style=\"height: 525px; width: 100%;\" class=\"plotly-graph-div\"></div><script type=\"text/javascript\">require([\"plotly\"], function(Plotly) { window.PLOTLYENV=window.PLOTLYENV || {};window.PLOTLYENV.BASE_URL=\"https://plot.ly\";\n",
       "        Plotly.plot(\n",
       "            '53d2c83c-90b8-4957-b4d9-c7b23546efa7',\n",
       "            [{\"name\": \"AB048704.1_genotype_C_\", \"x\": [1000, 1050, 1100, 1150, 1200, 1250, 1300, 1350, 1400, 1450, 1500, 1550, 1600, 1650, 1700, 1750, 1800, 1850, 1900, 1950, 2000, 2050, 2100, 2150, 2200, 2250, 2300, 2350, 2400, 2450, 2500, 2550, 2600, 2650, 2700], \"y\": [0.8419361749143571, 0.885305679708559, 0.9152379120102948, 0.8980954251095012, 0.8864831775131545, 0.8922130043197081, 0.8682993554277171, 0.8866572201235305, 0.9207735098041874, 0.8982484262182516, 0.9150916304790297, 0.931850891241565, 0.9206144633155356, 0.9534044273939669, 0.9534044273939669, 0.9638830411898996, 0.9481036969004106, 0.9317108960494715, 0.9374417199379832, 0.9153385131450859, 0.9262642409425024, 0.9427610695498044, 0.9206144633155356, 0.9424750304877174, 0.9587808232820978, 0.9481036969004106, 0.9745383259104925, 0.9153929629575677, 0.8387110232882241, 0.8197048832518368, 0.780529287755525, 0.8022782262586695, 0.8569337619085278, 0.8199834325221977], \"type\": \"scatter\", \"uid\": \"2a87ad7a-b110-11e8-a377-509a4c2ed471\"}, {\"name\": \"AB010291.1_Bj\", \"x\": [1000, 1050, 1100, 1150, 1200, 1250, 1300, 1350, 1400, 1450, 1500, 1550, 1600, 1650, 1700, 1750, 1800, 1850, 1900, 1950, 2000, 2050, 2100, 2150, 2200, 2250, 2300, 2350, 2400, 2450, 2500, 2550, 2600, 2650, 2700], \"y\": [0.8919779041928484, 0.9317108960494715, 0.9534044273939669, 0.9535091549525184, 0.9481036969004106, 0.9535091549525184, 0.9373758093348574, 0.9641000223846257, 0.9797197194282659, 0.9693026759768449, 0.9795890027398724, 0.9744654467859213, 0.9693026759768449, 0.9693632288781194, 0.9641000223846257, 0.9481959056682564, 0.9039094441070608, 0.8688161877606098, 0.8316118954991503, 0.8054278777409061, 0.7953223991161772, 0.847312726219598, 0.8729593734133732, 0.9253182895038663, 0.9797197194282659, 0.9693632288781194, 0.979673827215049, 0.9317108960494715, 0.9091197042031862, 0.8973544554980892, 0.8791706334126518, 0.9060661383306312, 0.9017845340748735, 0.8884282243428951], \"type\": \"scatter\", \"uid\": \"2a87ad7b-b110-11e8-a688-509a4c2ed471\"}],\n",
       "            {\"legend\": {\"orientation\": \"h\", \"x\": -0.1, \"y\": 1.5}, \"xaxis\": {\"title\": \"nucleotide position\"}, \"yaxis\": {\"title\": \"sequence identity\"}},\n",
       "            {\"showLink\": true, \"linkText\": \"Export to plot.ly\"}\n",
       "        ).then(function () {return Plotly.addFrames('53d2c83c-90b8-4957-b4d9-c7b23546efa7',{});}).then(function(){Plotly.animate('53d2c83c-90b8-4957-b4d9-c7b23546efa7');})\n",
       "        });</script>"
      ]
     },
     "metadata": {},
     "output_type": "display_data"
    }
   ],
   "source": [
    "sim.simgen(window=200, shift=50, pot_rec=1, region=(1000, 2700), dist='k2p')"
   ]
  },
  {
   "cell_type": "code",
   "execution_count": null,
   "metadata": {},
   "outputs": [],
   "source": []
  },
  {
   "cell_type": "code",
   "execution_count": null,
   "metadata": {},
   "outputs": [],
   "source": []
  },
  {
   "cell_type": "markdown",
   "metadata": {},
   "source": [
    "Let's try another example, these are too hepatitis B virus sequences."
   ]
  },
  {
   "cell_type": "code",
   "execution_count": null,
   "metadata": {},
   "outputs": [],
   "source": []
  },
  {
   "cell_type": "code",
   "execution_count": null,
   "metadata": {},
   "outputs": [],
   "source": []
  },
  {
   "cell_type": "code",
   "execution_count": null,
   "metadata": {},
   "outputs": [],
   "source": []
  },
  {
   "cell_type": "code",
   "execution_count": 15,
   "metadata": {},
   "outputs": [],
   "source": [
    "sim1 = Simgen(\"./data/conss_and_recs_short.fasta\")\n"
   ]
  },
  {
   "cell_type": "code",
   "execution_count": null,
   "metadata": {},
   "outputs": [],
   "source": [
    "sim1.get_info()"
   ]
  },
  {
   "cell_type": "markdown",
   "metadata": {},
   "source": [
    "we choose the recombinant under index 8"
   ]
  },
  {
   "cell_type": "code",
   "execution_count": null,
   "metadata": {},
   "outputs": [],
   "source": [
    "sim1.simgen(window=250, shift=50, pot_rec=8)"
   ]
  },
  {
   "cell_type": "code",
   "execution_count": null,
   "metadata": {},
   "outputs": [],
   "source": [
    "sim2 = Simgen()"
   ]
  },
  {
   "cell_type": "code",
   "execution_count": null,
   "metadata": {},
   "outputs": [],
   "source": []
  },
  {
   "cell_type": "code",
   "execution_count": null,
   "metadata": {},
   "outputs": [],
   "source": []
  },
  {
   "cell_type": "code",
   "execution_count": null,
   "metadata": {},
   "outputs": [],
   "source": []
  },
  {
   "cell_type": "code",
   "execution_count": null,
   "metadata": {},
   "outputs": [],
   "source": []
  }
 ],
 "metadata": {
  "kernelspec": {
   "display_name": "Python 3",
   "language": "python",
   "name": "python3"
  },
  "language_info": {
   "codemirror_mode": {
    "name": "ipython",
    "version": 3
   },
   "file_extension": ".py",
   "mimetype": "text/x-python",
   "name": "python",
   "nbconvert_exporter": "python",
   "pygments_lexer": "ipython3",
   "version": "3.6.5"
  }
 },
 "nbformat": 4,
 "nbformat_minor": 2
}
